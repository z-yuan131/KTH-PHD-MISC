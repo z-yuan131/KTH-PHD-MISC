{
 "cells": [
  {
   "cell_type": "code",
   "execution_count": 1,
   "id": "accepting-science",
   "metadata": {},
   "outputs": [],
   "source": [
    "##########################################\n",
    "# NACA 0012 DNS post-processing.         #\n",
    "# Zhenyang Yuan                          #\n",
    "# 25/5/2021                              #\n",
    "##########################################\n",
    "import numpy as np\n",
    "from math import pi\n",
    "import math\n",
    "import matplotlib.pyplot as plt\n",
    "import matplotlib.pylab as pylab\n",
    "from scipy.interpolate import griddata\n",
    "from scipy.interpolate import interp1d\n",
    "import scipy.signal\n",
    "from numpy import linalg as LA\n",
    "#from matplotlib.mlab import griddata\n",
    "params = {'legend.fontsize': 15,\n",
    "          'legend.loc':'best',\n",
    "          'figure.figsize': (14,5),\n",
    "          'lines.markerfacecolor':'none',\n",
    "         'axes.labelsize': 17,\n",
    "         'axes.titlesize': 17,\n",
    "         'xtick.labelsize':15,\n",
    "         'ytick.labelsize':15,\n",
    "         'grid.alpha':0.6}\n",
    "pylab.rcParams.update(params)\n",
    "#%matplotlib notebook\n",
    "%matplotlib inline\n",
    "\n",
    "\n",
    "from sys import argv\n",
    "\n",
    "import pandas as pd"
   ]
  },
  {
   "cell_type": "code",
   "execution_count": 2,
   "id": "accessible-anthropology",
   "metadata": {},
   "outputs": [],
   "source": [
    "# load data set\n",
    "def data_load_DNS(time,t,start,end,x_,y_,headline,varibles,numNodes,Lines):\n",
    "    r = 4\n",
    "    #x_ = np.asarray([])\n",
    "    #y_ = np.asarray([])\n",
    "    p_ = np.asarray([])\n",
    "\n",
    "    x = np.asarray([])\n",
    "    y = np.asarray([])\n",
    "    p = np.asarray([])\n",
    "    \n",
    "    \n",
    "        \n",
    "    \n",
    "\n",
    "    k = 0\n",
    "    #for i in open(\"../send/\"+str(time)+\".dat\").readlines():\n",
    "    for i in open(\"/Users/yuanzhenyang/software/yuan_compute/aerofoil/postprocessing/datFiles/\"+str(time)+\".dat\").readlines():\n",
    "        if k > headline - 1:                                #get away with headers\n",
    "            datContent = i.strip().split()                  #magic\n",
    "\n",
    "            datContent = np.asarray(datContent)             #convert list to array\n",
    "            datContent = datContent.astype(np.float64)      #convert str element to float\n",
    "\n",
    "            if t == 0:\n",
    "                if k < Lines*1 + headline :\n",
    "                        x_ = np.concatenate((x_,datContent),axis=None)\n",
    "                elif k < Lines*2 + headline :\n",
    "                        y_ = np.concatenate((y_,datContent),axis=None)\n",
    "                elif k < Lines*9 + headline and k > Lines*8 + headline - 1:\n",
    "                        p_ = np.concatenate((p_,datContent),axis=None)\n",
    "            else:\n",
    "                if k < Lines*9 + headline and k > Lines*8 + headline - 1:\n",
    "                        p_ = np.concatenate((p_,datContent),axis=None)\n",
    "\n",
    "\n",
    "        k+=1\n",
    "        if k > Lines*9 + headline:\n",
    "            break\n",
    "\n",
    "    for i in range(len(x_)):\n",
    "        if abs(x_[i]) < r and abs(y_[i]) < r:\n",
    "            if t == 0:\n",
    "                x = np.concatenate((x,x_[i]),axis=None)\n",
    "                y = np.concatenate((y,y_[i]),axis=None)\n",
    "                p = np.concatenate((p,p_[i]),axis=None)\n",
    "            else:\n",
    "                p = np.concatenate((p,p_[i]),axis=None)\n",
    "\n",
    "    print('Completed: '+str(time-start+1)+'/'+str(end-start+1)+'\\n')\n",
    "\n",
    "    if t == 0:\n",
    "        return x,y,p,x_,y_\n",
    "    elif time == end:\n",
    "        print('Completed collecting data from Nektar++ DNS solution!')\n",
    "        return p\n",
    "    else:\n",
    "        return p\n"
   ]
  },
  {
   "cell_type": "code",
   "execution_count": 3,
   "id": "demanding-action",
   "metadata": {},
   "outputs": [
    {
     "name": "stdout",
     "output_type": "stream",
     "text": [
      "Completed: 1/81\n",
      "\n",
      "Completed: 5/81\n",
      "\n",
      "Completed: 9/81\n",
      "\n",
      "Completed: 13/81\n",
      "\n",
      "Completed: 17/81\n",
      "\n",
      "Completed: 21/81\n",
      "\n",
      "Completed: 25/81\n",
      "\n",
      "Completed: 29/81\n",
      "\n",
      "Completed: 33/81\n",
      "\n",
      "Completed: 37/81\n",
      "\n",
      "Completed: 41/81\n",
      "\n",
      "Completed: 45/81\n",
      "\n",
      "Completed: 49/81\n",
      "\n",
      "Completed: 53/81\n",
      "\n",
      "Completed: 57/81\n",
      "\n",
      "Completed: 61/81\n",
      "\n",
      "Completed: 65/81\n",
      "\n",
      "Completed: 69/81\n",
      "\n",
      "Completed: 73/81\n",
      "\n",
      "Completed: 77/81\n",
      "\n",
      "Completed: 81/81\n",
      "\n",
      "Completed collecting data from Nektar++ DNS solution!\n"
     ]
    }
   ],
   "source": [
    "start = 27    #27\n",
    "end = 107      #47\n",
    "time = np.arange(start,end+1,4)\n",
    "\n",
    "headline=3\n",
    "varibles=3   # x-1, y-2, rho-3, rhou-4, rhov-5, E-6, u-7, v-8, p-9, T, s, a, Mach, Sensor\n",
    "numNodes=561450\n",
    "#Lines=int(numNodes/5) #from tecplot\n",
    "Lines=int(numNodes/1000)+1 #fieldconvert\n",
    "\n",
    "\n",
    "x_ = np.asarray([])   #pruely for loading speed reason\n",
    "y_ = np.asarray([])\n",
    "\n",
    "x,y,p1,x_,y_ = data_load_DNS(time[0],0,start,end,x_,y_,headline,varibles,numNodes,Lines)\n",
    "\n",
    "p = np.zeros([len(time), len(p1)])\n",
    "p[0] = p1\n",
    "for i in range(len(time)):\n",
    "    if i > 0:\n",
    "        p[i][:]=data_load_DNS(time[i],1,start,end,x_,y_,headline,varibles,numNodes,Lines)\n"
   ]
  },
  {
   "cell_type": "code",
   "execution_count": null,
   "id": "prostate-chuck",
   "metadata": {},
   "outputs": [],
   "source": []
  },
  {
   "cell_type": "code",
   "execution_count": null,
   "id": "occupied-custody",
   "metadata": {},
   "outputs": [],
   "source": []
  },
  {
   "cell_type": "code",
   "execution_count": 4,
   "id": "announced-merit",
   "metadata": {},
   "outputs": [],
   "source": [
    "## calculate total, mean, fluctuation pressure values\n",
    "def fluc_pressure(p,time):\n",
    "    dp = np.zeros([len(time), len(p[0])])\n",
    "    dptuda = np.zeros([len(time), len(p[0])])\n",
    "    dpmean = np.zeros(len(p[0]))\n",
    "    for i in range(len(time)):\n",
    "        dp[i] = p[i] - 1/1.4*np.ones(len(p[0]))\n",
    "        dpmean += dp[i]\n",
    "    dpmean = dpmean/len(time)\n",
    "    for i in range(len(time)):\n",
    "        dptuda[i] = dp[i] - dpmean\n",
    "\n",
    "    return dp,dpmean,dptuda\n",
    "\n",
    "\n",
    "## calculate rms values of input time depended arrays\n",
    "## root mean square\n",
    "def rms(p,time):\n",
    "    pms_ = np.zeros(p.shape[1])\n",
    "    \n",
    "    for i in range(len(time)):\n",
    "        pms_ += p[i]**2\n",
    "            \n",
    "    pms = pms_/len(time)\n",
    "    prms = np.sqrt(pms)\n",
    "    \n",
    "    return pms, prms\n",
    "\n",
    "\n",
    "def polar_coor(x,y):\n",
    "    theta =np.arctan2(y,x)\n",
    "    r = np.sqrt(x**2+y**2)\n",
    "    return theta,r"
   ]
  },
  {
   "cell_type": "markdown",
   "id": "greater-drill",
   "metadata": {},
   "source": [
    "## Trailing Edge Directivity"
   ]
  },
  {
   "cell_type": "code",
   "execution_count": 5,
   "id": "romantic-edward",
   "metadata": {},
   "outputs": [],
   "source": [
    "dp,dpmean,dptuda = fluc_pressure(p,time)"
   ]
  },
  {
   "cell_type": "code",
   "execution_count": 6,
   "id": "buried-electron",
   "metadata": {},
   "outputs": [],
   "source": [
    "dptuda_ms,dptuda_rms = rms(dptuda,time)"
   ]
  },
  {
   "cell_type": "code",
   "execution_count": 24,
   "id": "hungarian-sheriff",
   "metadata": {},
   "outputs": [
    {
     "name": "stdout",
     "output_type": "stream",
     "text": [
      "0.9792611783946352 -0.05125057018287524\n"
     ]
    }
   ],
   "source": [
    "## trailing edge point\n",
    "\n",
    "def rotate(x,y):\n",
    "    deg = -pi/60    # degree in rad\n",
    "    x = x*np.cos(deg) - y*np.sin(deg)\n",
    "    y = x*np.sin(deg) + y*np.cos(deg)\n",
    "    return x,y\n",
    "\n",
    "#xt = 0.0\n",
    "xt = 0.9806050635537246\n",
    "yt = 0\n",
    "\n",
    "xt,yt = rotate(xt,yt)\n",
    "print(xt,yt)"
   ]
  },
  {
   "cell_type": "code",
   "execution_count": 25,
   "id": "authorized-three",
   "metadata": {},
   "outputs": [],
   "source": [
    "## set the new centre point of the cordinate to this point\n",
    "xn = x - xt\n",
    "yn = y - yt"
   ]
  },
  {
   "cell_type": "code",
   "execution_count": 26,
   "id": "correct-request",
   "metadata": {},
   "outputs": [],
   "source": [
    "theta,r = polar_coor(xn,yn)"
   ]
  },
  {
   "cell_type": "code",
   "execution_count": 27,
   "id": "challenging-curve",
   "metadata": {},
   "outputs": [],
   "source": [
    "rr = r #/ (1 - 0.2*np.cos(theta))\n",
    "#rr = r * np.sqrt(1-0.2**2*np.cos(theta))"
   ]
  },
  {
   "cell_type": "code",
   "execution_count": 28,
   "id": "responsible-magazine",
   "metadata": {},
   "outputs": [],
   "source": [
    "theta_plot1 = np.asarray([])\n",
    "r_plot1 = np.asarray([])\n",
    "dptuda_rms_plot = np.asarray([])\n",
    "tol = 0.015\n",
    "for i in range(len(r)):\n",
    "    if abs(rr[i] - 3) <= tol:\n",
    "        theta_plot1 = np.concatenate((theta_plot1,theta[i]),axis=None)\n",
    "        r_plot1 = np.concatenate((r_plot1,r[i]),axis=None)\n",
    "        dptuda_rms_plot = np.concatenate((dptuda_rms_plot,dptuda_rms[i]),axis=None)"
   ]
  },
  {
   "cell_type": "code",
   "execution_count": 29,
   "id": "revised-birmingham",
   "metadata": {},
   "outputs": [
    {
     "data": {
      "text/plain": [
       "Text(0.5, 1.0, 'Measured at trailing edge point, r = 3')"
      ]
     },
     "execution_count": 29,
     "metadata": {},
     "output_type": "execute_result"
    },
    {
     "data": {
      "image/png": "[encoded data removed]",
      "text/plain": [
       "<Figure size 432x288 with 1 Axes>"
      ]
     },
     "metadata": {
      "needs_background": "light"
     },
     "output_type": "display_data"
    }
   ],
   "source": [
    "#a\n",
    "#plt.polar(paper_dp8_theta/180*pi,paper_dp8_scale,'r.')\n",
    "plt.polar(theta_plot1,dptuda_rms_plot,'b.')\n",
    "plt.ylim([0,0.00065])\n",
    "plt.yticks([0.0001, 0.0005])  # Less radial ticks\n",
    "#ax.set_rlabel_position(-22.5)  # Move radial labels away from plotted line\n",
    "plt.grid(True)\n",
    "#plt.legend(loc='best')\n",
    "plt.title('Measured at trailing edge point, r = 3', va='bottom')"
   ]
  },
  {
   "cell_type": "markdown",
   "id": "close-printer",
   "metadata": {},
   "source": []
  },
  {
   "cell_type": "code",
   "execution_count": null,
   "id": "signal-gateway",
   "metadata": {},
   "outputs": [],
   "source": []
  },
  {
   "cell_type": "code",
   "execution_count": null,
   "id": "latest-bachelor",
   "metadata": {},
   "outputs": [],
   "source": []
  },
  {
   "cell_type": "code",
   "execution_count": null,
   "id": "graduate-battery",
   "metadata": {},
   "outputs": [],
   "source": []
  },
  {
   "cell_type": "code",
   "execution_count": null,
   "id": "adopted-startup",
   "metadata": {},
   "outputs": [],
   "source": []
  },
  {
   "cell_type": "code",
   "execution_count": null,
   "id": "fancy-president",
   "metadata": {},
   "outputs": [],
   "source": []
  },
  {
   "cell_type": "code",
   "execution_count": null,
   "id": "quiet-mouse",
   "metadata": {},
   "outputs": [],
   "source": []
  }
 ],
 "metadata": {
  "kernelspec": {
   "display_name": "Python 3",
   "language": "python",
   "name": "python3"
  },
  "language_info": {
   "codemirror_mode": {
    "name": "ipython",
    "version": 3
   },
   "file_extension": ".py",
   "mimetype": "text/x-python",
   "name": "python",
   "nbconvert_exporter": "python",
   "pygments_lexer": "ipython3",
   "version": "3.9.5"
  }
 },
 "nbformat": 4,
 "nbformat_minor": 5
}
