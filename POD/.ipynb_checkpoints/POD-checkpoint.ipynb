{
 "cells": [
  {
   "cell_type": "code",
   "execution_count": 1,
   "id": "755f82e5",
   "metadata": {},
   "outputs": [],
   "source": [
    "import numpy as np\n",
    "\n",
    "from math import pi\n",
    "import math\n",
    "\n",
    "import matplotlib.pyplot as plt\n",
    "import matplotlib.pylab as pylab\n",
    "from scipy.interpolate import griddata\n",
    "from scipy.interpolate import interp1d\n",
    "import scipy.signal\n",
    "from numpy import linalg as LA\n",
    "#from matplotlib.mlab import griddata\n",
    "params = {'legend.fontsize': 15,\n",
    "          'legend.loc':'best',\n",
    "          'figure.figsize': (14,5),\n",
    "          'lines.markerfacecolor':'none',\n",
    "         'axes.labelsize': 17,\n",
    "         'axes.titlesize': 17,\n",
    "         'xtick.labelsize':15,\n",
    "         'ytick.labelsize':15,\n",
    "         'grid.alpha':0.6}\n",
    "pylab.rcParams.update(params)\n",
    "#%matplotlib notebook\n",
    "%matplotlib inline"
   ]
  },
  {
   "cell_type": "markdown",
   "id": "2300f0a6",
   "metadata": {},
   "source": [
    "## Define directories"
   ]
  },
  {
   "cell_type": "code",
   "execution_count": 2,
   "id": "adfc786b",
   "metadata": {},
   "outputs": [],
   "source": [
    "vtu_dir = '../vtu/'\n",
    "meshfile_dir = '../../geo/'"
   ]
  },
  {
   "cell_type": "markdown",
   "id": "00890a32",
   "metadata": {},
   "source": [
    "## Import VTK files"
   ]
  },
  {
   "cell_type": "code",
   "execution_count": 3,
   "id": "56f1e672",
   "metadata": {},
   "outputs": [],
   "source": [
    "import vtkreader as reader"
   ]
  },
  {
   "cell_type": "code",
   "execution_count": 44,
   "id": "607d1555",
   "metadata": {},
   "outputs": [],
   "source": [
    "start = 100.00 #50\n",
    "end = 150.00   #199.98\n",
    "dt = 0.2\n",
    "\n",
    "time = np.arange(start, end, dt)\n",
    "filename = []\n",
    "for i in range(len(time)):\n",
    "    filename.append(vtu_dir+\"{:.2f}\".format(time[i])+'.vtu')\n",
    "\n",
    "x,y = reader.load_coordinate(filename[0])\n",
    "\n",
    "\n",
    "p = np.zeros([len(time),len(x)])    # only p is interested here\n",
    "\n",
    "for i in range(len(time)):\n",
    "    p[i],u,v,rho = reader.load_vtkFile(filename[i])\n",
    "    if time[i] == end:\n",
    "        print('loading data: done!')"
   ]
  },
  {
   "cell_type": "code",
   "execution_count": 45,
   "id": "f560f65f",
   "metadata": {},
   "outputs": [
    {
     "name": "stdout",
     "output_type": "stream",
     "text": [
      "(250, 448390)\n"
     ]
    }
   ],
   "source": [
    "print(p.shape)"
   ]
  },
  {
   "cell_type": "markdown",
   "id": "bdd6124e",
   "metadata": {},
   "source": [
    "## Calculate Fluctuation Values"
   ]
  },
  {
   "cell_type": "code",
   "execution_count": 46,
   "id": "11f420f8",
   "metadata": {},
   "outputs": [],
   "source": [
    "import basis"
   ]
  },
  {
   "cell_type": "code",
   "execution_count": 47,
   "id": "a9914455",
   "metadata": {},
   "outputs": [],
   "source": [
    "dp,dpmean,dptuda = basis.fluc_pressure(p,time)"
   ]
  },
  {
   "cell_type": "code",
   "execution_count": 48,
   "id": "d30528b3",
   "metadata": {},
   "outputs": [
    {
     "name": "stdout",
     "output_type": "stream",
     "text": [
      "(250, 448390)\n"
     ]
    }
   ],
   "source": [
    "print(dp.shape)"
   ]
  },
  {
   "cell_type": "markdown",
   "id": "188e90f2",
   "metadata": {},
   "source": [
    "## SVD Singular-Valued Decomposition"
   ]
  },
  {
   "cell_type": "code",
   "execution_count": 49,
   "id": "7ad9924d",
   "metadata": {},
   "outputs": [
    {
     "name": "stdout",
     "output_type": "stream",
     "text": [
      "(448390, 250)\n"
     ]
    }
   ],
   "source": [
    "Y = dp.T\n",
    "print(Y.shape)"
   ]
  },
  {
   "cell_type": "code",
   "execution_count": 50,
   "id": "2a983074",
   "metadata": {},
   "outputs": [],
   "source": [
    "A = np.matmul(Y.T,Y)"
   ]
  },
  {
   "cell_type": "code",
   "execution_count": 51,
   "id": "dfb06f62",
   "metadata": {},
   "outputs": [],
   "source": [
    "w, v = LA.eig(A)    # w is eigenvalue, v[:,i] is normaöized eigenvector of w[i]\n",
    "\"\"\"temp = 0\n",
    "for i in v[:,4]:\n",
    "    temp += i**2\n",
    "print(temp)\"\"\"\n",
    "\n",
    "#sig = np.sqrt(w)*np.eye(len(w))\n",
    "sig = np.zeros([len(w),len(w)])\n",
    "for i in range(len(w)):\n",
    "    sig[i,i] = 1/np.sqrt(w[i])"
   ]
  },
  {
   "cell_type": "code",
   "execution_count": 52,
   "id": "c5b03f7a",
   "metadata": {},
   "outputs": [
    {
     "name": "stdout",
     "output_type": "stream",
     "text": [
      "(250,)\n",
      "(250, 250)\n"
     ]
    }
   ],
   "source": [
    "print(w.shape)\n",
    "print(v.shape)"
   ]
  },
  {
   "cell_type": "code",
   "execution_count": 53,
   "id": "49f9aecf",
   "metadata": {},
   "outputs": [
    {
     "name": "stdout",
     "output_type": "stream",
     "text": [
      "(448390, 250)\n"
     ]
    }
   ],
   "source": [
    "U = np.matmul(np.matmul(Y,v),sig)\n",
    "print(U.shape)"
   ]
  },
  {
   "cell_type": "code",
   "execution_count": 54,
   "id": "8e76678e",
   "metadata": {},
   "outputs": [
    {
     "name": "stdout",
     "output_type": "stream",
     "text": [
      "(250, 250)\n"
     ]
    }
   ],
   "source": [
    "coeff = np.matmul(U.T,Y)\n",
    "print(coeff.shape)      # x shape: first row:x1 last row:xN; first colomn:t1 last colomn:tN"
   ]
  },
  {
   "cell_type": "code",
   "execution_count": 55,
   "id": "b607a0bf",
   "metadata": {},
   "outputs": [
    {
     "name": "stdout",
     "output_type": "stream",
     "text": [
      "(448390, 250)\n",
      "(250,)\n"
     ]
    }
   ],
   "source": [
    "print(U.shape)\n",
    "print(coeff[:,1].shape)"
   ]
  },
  {
   "cell_type": "code",
   "execution_count": 56,
   "id": "9af1ca85",
   "metadata": {},
   "outputs": [],
   "source": [
    "#assume t = 0, check routine\n",
    "recover = np.zeros([Y.shape[1],time.shape[0]])\n",
    "for i in range(len(time)):\n",
    "    recover = np.matmul(U,coeff)"
   ]
  },
  {
   "cell_type": "code",
   "execution_count": 57,
   "id": "ca33d5d9",
   "metadata": {},
   "outputs": [
    {
     "name": "stdout",
     "output_type": "stream",
     "text": [
      "(448390, 250)\n"
     ]
    }
   ],
   "source": [
    "print(recover.shape)"
   ]
  },
  {
   "cell_type": "markdown",
   "id": "71eac230",
   "metadata": {},
   "source": [
    "## Write to vtk file"
   ]
  },
  {
   "cell_type": "code",
   "execution_count": 58,
   "id": "27eb09ad",
   "metadata": {},
   "outputs": [],
   "source": [
    "import vtkwriter as writer"
   ]
  },
  {
   "cell_type": "code",
   "execution_count": 59,
   "id": "3615b01d",
   "metadata": {},
   "outputs": [
    {
     "name": "stdout",
     "output_type": "stream",
     "text": [
      "Writing...\n",
      "Done!\n"
     ]
    }
   ],
   "source": [
    "length = 5\n",
    "input_time = 0  \n",
    "append_data = np.zeros([U.shape[0],length+2])\n",
    "append_data[:,0:length] = U[:,0:length]\n",
    "append_data[:,length] = dp[input_time,:]\n",
    "append_data[:,length+1] = recover[:,input_time]\n",
    "\n",
    "append_data_name = []\n",
    "for i in range(length):\n",
    "    append_data_name.append('mode_'+str(i))\n",
    "    \n",
    "  \n",
    "append_data_name.append('dp')\n",
    "append_data_name.append('recovered')\n",
    "\n",
    "length = append_data.shape[1]\n",
    "input_file_name = '../vtu/100.00.vtu'\n",
    "\n",
    "writer.yzywriter(input_file_name,append_data,append_data_name,length)"
   ]
  },
  {
   "cell_type": "code",
   "execution_count": 60,
   "id": "57396a99",
   "metadata": {},
   "outputs": [
    {
     "name": "stdout",
     "output_type": "stream",
     "text": [
      "(448390, 7)\n"
     ]
    }
   ],
   "source": [
    "print(append_data.shape)"
   ]
  },
  {
   "cell_type": "code",
   "execution_count": 61,
   "id": "d7ba5b32",
   "metadata": {},
   "outputs": [
    {
     "name": "stdout",
     "output_type": "stream",
     "text": [
      "5.349428972706294e-11\n"
     ]
    }
   ],
   "source": [
    "## check the differency between recover field and original\n",
    "df = LA.norm(dp[input_time,:] - recover[:,input_time],np.inf)\n",
    "print(df)"
   ]
  },
  {
   "cell_type": "code",
   "execution_count": null,
   "id": "9d148a0d",
   "metadata": {},
   "outputs": [],
   "source": []
  },
  {
   "cell_type": "markdown",
   "id": "14e78c54",
   "metadata": {},
   "source": [
    "## SVD using in-build function"
   ]
  },
  {
   "cell_type": "code",
   "execution_count": 65,
   "id": "0cbef019",
   "metadata": {},
   "outputs": [
    {
     "ename": "ModuleNotFoundError",
     "evalue": "No module named 'modred'",
     "output_type": "error",
     "traceback": [
      "\u001b[0;31m---------------------------------------------------------------------------\u001b[0m",
      "\u001b[0;31mModuleNotFoundError\u001b[0m                       Traceback (most recent call last)",
      "\u001b[0;32m<ipython-input-65-6031fd637985>\u001b[0m in \u001b[0;36m<module>\u001b[0;34m\u001b[0m\n\u001b[1;32m      2\u001b[0m \u001b[0;32mimport\u001b[0m \u001b[0mnumpy\u001b[0m \u001b[0;32mas\u001b[0m \u001b[0mnp\u001b[0m\u001b[0;34m\u001b[0m\u001b[0;34m\u001b[0m\u001b[0m\n\u001b[1;32m      3\u001b[0m \u001b[0;34m\u001b[0m\u001b[0m\n\u001b[0;32m----> 4\u001b[0;31m \u001b[0;32mimport\u001b[0m \u001b[0mmodred\u001b[0m \u001b[0;32mas\u001b[0m \u001b[0mmr\u001b[0m\u001b[0;34m\u001b[0m\u001b[0;34m\u001b[0m\u001b[0m\n\u001b[0m\u001b[1;32m      5\u001b[0m \u001b[0;34m\u001b[0m\u001b[0m\n\u001b[1;32m      6\u001b[0m \u001b[0;34m\u001b[0m\u001b[0m\n",
      "\u001b[0;31mModuleNotFoundError\u001b[0m: No module named 'modred'"
     ]
    }
   ],
   "source": [
    "## Or using the python program to calculate SVD\n",
    "import numpy as np\n",
    "\n",
    "import modred as mr\n",
    "\n",
    "\n",
    "# Create random data\n",
    "num_vecs = 30\n",
    "vecs = np.random.random((100, num_vecs))\n",
    "vecs = Y\n",
    "\n",
    "# Compute POD\n",
    "num_modes = 5\n",
    "POD_res = mr.compute_POD_arrays_snaps_method(\n",
    "    vecs, list(mr.range(num_modes)))\n",
    "modes = POD_res.modes\n",
    "eigvals = POD_res.eigvals"
   ]
  },
  {
   "cell_type": "code",
   "execution_count": null,
   "id": "4b2a148b",
   "metadata": {},
   "outputs": [],
   "source": []
  },
  {
   "cell_type": "code",
   "execution_count": null,
   "id": "f4bb9bd4",
   "metadata": {},
   "outputs": [],
   "source": []
  },
  {
   "cell_type": "code",
   "execution_count": null,
   "id": "49534341",
   "metadata": {},
   "outputs": [],
   "source": []
  },
  {
   "cell_type": "code",
   "execution_count": null,
   "id": "3bc54e9e",
   "metadata": {},
   "outputs": [],
   "source": []
  },
  {
   "cell_type": "code",
   "execution_count": null,
   "id": "e5158e26",
   "metadata": {},
   "outputs": [],
   "source": []
  },
  {
   "cell_type": "code",
   "execution_count": null,
   "id": "7472357e",
   "metadata": {},
   "outputs": [],
   "source": []
  },
  {
   "cell_type": "code",
   "execution_count": null,
   "id": "7026ab04",
   "metadata": {},
   "outputs": [],
   "source": []
  },
  {
   "cell_type": "code",
   "execution_count": null,
   "id": "335aebbf",
   "metadata": {},
   "outputs": [],
   "source": []
  },
  {
   "cell_type": "code",
   "execution_count": null,
   "id": "4b27b0fb",
   "metadata": {},
   "outputs": [],
   "source": []
  },
  {
   "cell_type": "code",
   "execution_count": null,
   "id": "1dbeedc0",
   "metadata": {},
   "outputs": [],
   "source": []
  },
  {
   "cell_type": "code",
   "execution_count": null,
   "id": "976e4190",
   "metadata": {},
   "outputs": [],
   "source": []
  },
  {
   "cell_type": "code",
   "execution_count": null,
   "id": "336dc735",
   "metadata": {},
   "outputs": [],
   "source": []
  },
  {
   "cell_type": "code",
   "execution_count": null,
   "id": "317e9393",
   "metadata": {},
   "outputs": [],
   "source": []
  },
  {
   "cell_type": "code",
   "execution_count": null,
   "id": "a14e6ef7",
   "metadata": {},
   "outputs": [],
   "source": []
  },
  {
   "cell_type": "code",
   "execution_count": null,
   "id": "ee698413",
   "metadata": {},
   "outputs": [],
   "source": []
  },
  {
   "cell_type": "code",
   "execution_count": null,
   "id": "fceaa56e",
   "metadata": {},
   "outputs": [],
   "source": []
  },
  {
   "cell_type": "code",
   "execution_count": null,
   "id": "bee5f4ac",
   "metadata": {},
   "outputs": [],
   "source": []
  },
  {
   "cell_type": "code",
   "execution_count": null,
   "id": "a83e628a",
   "metadata": {},
   "outputs": [],
   "source": []
  },
  {
   "cell_type": "code",
   "execution_count": 92,
   "id": "f38e8a8d",
   "metadata": {},
   "outputs": [
    {
     "ename": "KeyboardInterrupt",
     "evalue": "",
     "output_type": "error",
     "traceback": [
      "\u001b[0;31m---------------------------------------------------------------------------\u001b[0m",
      "\u001b[0;31mKeyboardInterrupt\u001b[0m                         Traceback (most recent call last)",
      "\u001b[0;32m<ipython-input-92-fa2b08211617>\u001b[0m in \u001b[0;36m<module>\u001b[0;34m\u001b[0m\n\u001b[1;32m     35\u001b[0m \u001b[0minteractor\u001b[0m\u001b[0;34m.\u001b[0m\u001b[0mSetRenderWindow\u001b[0m\u001b[0;34m(\u001b[0m\u001b[0mrenderer_window\u001b[0m\u001b[0;34m)\u001b[0m\u001b[0;34m\u001b[0m\u001b[0;34m\u001b[0m\u001b[0m\n\u001b[1;32m     36\u001b[0m \u001b[0minteractor\u001b[0m\u001b[0;34m.\u001b[0m\u001b[0mInitialize\u001b[0m\u001b[0;34m(\u001b[0m\u001b[0;34m)\u001b[0m\u001b[0;34m\u001b[0m\u001b[0;34m\u001b[0m\u001b[0m\n\u001b[0;32m---> 37\u001b[0;31m \u001b[0minteractor\u001b[0m\u001b[0;34m.\u001b[0m\u001b[0mStart\u001b[0m\u001b[0;34m(\u001b[0m\u001b[0;34m)\u001b[0m\u001b[0;34m\u001b[0m\u001b[0;34m\u001b[0m\u001b[0m\n\u001b[0m",
      "\u001b[0;31mKeyboardInterrupt\u001b[0m: "
     ]
    }
   ],
   "source": [
    "from vtk import (vtkUnstructuredGridReader, vtkDataSetMapper, vtkActor,\n",
    "                 vtkRenderer, vtkRenderWindow, vtkRenderWindowInteractor)\n",
    "\n",
    "file_name = \"../vtu/100.02.vtu\"  # minimal example vtk file\n",
    "\n",
    "# Read the source file.\n",
    "reader = vtkUnstructuredGridReader()\n",
    "reader.SetFileName(file_name)\n",
    "reader.Update()  # Needed because of GetScalarRange\n",
    "output = reader.GetOutput()\n",
    "output_port = reader.GetOutputPort()\n",
    "scalar_range = output.GetScalarRange()\n",
    "\n",
    "# Create the mapper that corresponds the objects of the vtk file\n",
    "# into graphics elements\n",
    "mapper = vtkDataSetMapper()\n",
    "mapper.SetInputConnection(output_port)\n",
    "mapper.SetScalarRange(scalar_range)\n",
    "\n",
    "# Create the Actor\n",
    "actor = vtkActor()\n",
    "actor.SetMapper(mapper)\n",
    "\n",
    "# Create the Renderer\n",
    "renderer = vtkRenderer()\n",
    "renderer.AddActor(actor)\n",
    "renderer.SetBackground(1, 1, 1) # Set background to white\n",
    "\n",
    "# Create the RendererWindow\n",
    "renderer_window = vtkRenderWindow()\n",
    "renderer_window.AddRenderer(renderer)\n",
    "\n",
    "# Create the RendererWindowInteractor and display the vtk_file\n",
    "interactor = vtkRenderWindowInteractor()\n",
    "interactor.SetRenderWindow(renderer_window)\n",
    "interactor.Initialize()\n",
    "interactor.Start()"
   ]
  },
  {
   "cell_type": "code",
   "execution_count": null,
   "id": "004a883f",
   "metadata": {},
   "outputs": [],
   "source": []
  },
  {
   "cell_type": "code",
   "execution_count": null,
   "id": "7e5fe271",
   "metadata": {},
   "outputs": [],
   "source": []
  },
  {
   "cell_type": "code",
   "execution_count": null,
   "id": "b39fc4ff",
   "metadata": {},
   "outputs": [],
   "source": []
  },
  {
   "cell_type": "code",
   "execution_count": null,
   "id": "7e33fd07",
   "metadata": {},
   "outputs": [],
   "source": []
  },
  {
   "cell_type": "code",
   "execution_count": null,
   "id": "c7f94d78",
   "metadata": {},
   "outputs": [],
   "source": []
  },
  {
   "cell_type": "code",
   "execution_count": null,
   "id": "bec104df",
   "metadata": {},
   "outputs": [],
   "source": []
  },
  {
   "cell_type": "code",
   "execution_count": null,
   "id": "5156bdbe",
   "metadata": {},
   "outputs": [],
   "source": []
  },
  {
   "cell_type": "code",
   "execution_count": null,
   "id": "e4779aff",
   "metadata": {},
   "outputs": [],
   "source": []
  },
  {
   "cell_type": "code",
   "execution_count": 69,
   "id": "1faccdb3",
   "metadata": {},
   "outputs": [
    {
     "name": "stdout",
     "output_type": "stream",
     "text": [
      "(448390, 5)\n",
      "(5, 448390)\n"
     ]
    }
   ],
   "source": [
    "print(Y.shape)\n",
    "Y = Y.T\n",
    "print(Y.shape)"
   ]
  },
  {
   "cell_type": "code",
   "execution_count": 70,
   "id": "3e351a13",
   "metadata": {},
   "outputs": [
    {
     "ename": "MemoryError",
     "evalue": "Unable to allocate 1.46 TiB for an array with shape (448390, 448390) and data type float64",
     "output_type": "error",
     "traceback": [
      "\u001b[0;31m---------------------------------------------------------------------------\u001b[0m",
      "\u001b[0;31mMemoryError\u001b[0m                               Traceback (most recent call last)",
      "\u001b[0;32m<ipython-input-70-b94952154113>\u001b[0m in \u001b[0;36m<module>\u001b[0;34m\u001b[0m\n\u001b[1;32m      1\u001b[0m \u001b[0;31m## Or using the python program to calculate SVD\u001b[0m\u001b[0;34m\u001b[0m\u001b[0;34m\u001b[0m\u001b[0;34m\u001b[0m\u001b[0m\n\u001b[0;32m----> 2\u001b[0;31m \u001b[0mu\u001b[0m\u001b[0;34m,\u001b[0m \u001b[0ms\u001b[0m\u001b[0;34m,\u001b[0m \u001b[0mvh\u001b[0m \u001b[0;34m=\u001b[0m \u001b[0mLA\u001b[0m\u001b[0;34m.\u001b[0m\u001b[0msvd\u001b[0m\u001b[0;34m(\u001b[0m\u001b[0mY\u001b[0m\u001b[0;34m)\u001b[0m\u001b[0;34m\u001b[0m\u001b[0;34m\u001b[0m\u001b[0m\n\u001b[0m",
      "\u001b[0;32m<__array_function__ internals>\u001b[0m in \u001b[0;36msvd\u001b[0;34m(*args, **kwargs)\u001b[0m\n",
      "\u001b[0;32m~/.local/lib/python3.7/site-packages/numpy-1.21.0-py3.7-linux-x86_64.egg/numpy/linalg/linalg.py\u001b[0m in \u001b[0;36msvd\u001b[0;34m(a, full_matrices, compute_uv, hermitian)\u001b[0m\n\u001b[1;32m   1658\u001b[0m \u001b[0;34m\u001b[0m\u001b[0m\n\u001b[1;32m   1659\u001b[0m         \u001b[0msignature\u001b[0m \u001b[0;34m=\u001b[0m \u001b[0;34m'D->DdD'\u001b[0m \u001b[0;32mif\u001b[0m \u001b[0misComplexType\u001b[0m\u001b[0;34m(\u001b[0m\u001b[0mt\u001b[0m\u001b[0;34m)\u001b[0m \u001b[0;32melse\u001b[0m \u001b[0;34m'd->ddd'\u001b[0m\u001b[0;34m\u001b[0m\u001b[0;34m\u001b[0m\u001b[0m\n\u001b[0;32m-> 1660\u001b[0;31m         \u001b[0mu\u001b[0m\u001b[0;34m,\u001b[0m \u001b[0ms\u001b[0m\u001b[0;34m,\u001b[0m \u001b[0mvh\u001b[0m \u001b[0;34m=\u001b[0m \u001b[0mgufunc\u001b[0m\u001b[0;34m(\u001b[0m\u001b[0ma\u001b[0m\u001b[0;34m,\u001b[0m \u001b[0msignature\u001b[0m\u001b[0;34m=\u001b[0m\u001b[0msignature\u001b[0m\u001b[0;34m,\u001b[0m \u001b[0mextobj\u001b[0m\u001b[0;34m=\u001b[0m\u001b[0mextobj\u001b[0m\u001b[0;34m)\u001b[0m\u001b[0;34m\u001b[0m\u001b[0;34m\u001b[0m\u001b[0m\n\u001b[0m\u001b[1;32m   1661\u001b[0m         \u001b[0mu\u001b[0m \u001b[0;34m=\u001b[0m \u001b[0mu\u001b[0m\u001b[0;34m.\u001b[0m\u001b[0mastype\u001b[0m\u001b[0;34m(\u001b[0m\u001b[0mresult_t\u001b[0m\u001b[0;34m,\u001b[0m \u001b[0mcopy\u001b[0m\u001b[0;34m=\u001b[0m\u001b[0;32mFalse\u001b[0m\u001b[0;34m)\u001b[0m\u001b[0;34m\u001b[0m\u001b[0;34m\u001b[0m\u001b[0m\n\u001b[1;32m   1662\u001b[0m         \u001b[0ms\u001b[0m \u001b[0;34m=\u001b[0m \u001b[0ms\u001b[0m\u001b[0;34m.\u001b[0m\u001b[0mastype\u001b[0m\u001b[0;34m(\u001b[0m\u001b[0m_realType\u001b[0m\u001b[0;34m(\u001b[0m\u001b[0mresult_t\u001b[0m\u001b[0;34m)\u001b[0m\u001b[0;34m,\u001b[0m \u001b[0mcopy\u001b[0m\u001b[0;34m=\u001b[0m\u001b[0;32mFalse\u001b[0m\u001b[0;34m)\u001b[0m\u001b[0;34m\u001b[0m\u001b[0;34m\u001b[0m\u001b[0m\n",
      "\u001b[0;31mMemoryError\u001b[0m: Unable to allocate 1.46 TiB for an array with shape (448390, 448390) and data type float64"
     ]
    }
   ],
   "source": [
    "## Or using the python program to calculate SVD\n",
    "u, s, vh = LA.svd(Y)\n"
   ]
  },
  {
   "cell_type": "code",
   "execution_count": null,
   "id": "da4827fc",
   "metadata": {},
   "outputs": [],
   "source": []
  }
 ],
 "metadata": {
  "kernelspec": {
   "display_name": "Python 3",
   "language": "python",
   "name": "python3"
  },
  "language_info": {
   "codemirror_mode": {
    "name": "ipython",
    "version": 3
   },
   "file_extension": ".py",
   "mimetype": "text/x-python",
   "name": "python",
   "nbconvert_exporter": "python",
   "pygments_lexer": "ipython3",
   "version": "3.7.3"
  }
 },
 "nbformat": 4,
 "nbformat_minor": 5
}
