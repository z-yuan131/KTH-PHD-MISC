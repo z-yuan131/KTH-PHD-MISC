{
 "cells": [
  {
   "cell_type": "code",
   "execution_count": 1,
   "id": "5c46eddc",
   "metadata": {},
   "outputs": [],
   "source": [
    "import numpy as np\n",
    "import pyfftw\n",
    "\n",
    "from math import pi\n",
    "import math\n",
    "\n",
    "import matplotlib.pyplot as plt\n",
    "import matplotlib.pylab as pylab\n",
    "from scipy.interpolate import griddata\n",
    "from scipy.interpolate import interp1d\n",
    "import scipy.signal\n",
    "from numpy import linalg as LA\n",
    "#from matplotlib.mlab import griddata\n",
    "params = {'legend.fontsize': 15,\n",
    "          'legend.loc':'best',\n",
    "          'figure.figsize': (14,5),\n",
    "          'lines.markerfacecolor':'none',\n",
    "         'axes.labelsize': 17,\n",
    "         'axes.titlesize': 17,\n",
    "         'xtick.labelsize':15,\n",
    "         'ytick.labelsize':15,\n",
    "         'grid.alpha':0.6}\n",
    "pylab.rcParams.update(params)\n",
    "#%matplotlib notebook\n",
    "%matplotlib inline\n",
    "\n",
    "from tqdm import tqdm\n",
    "import sys\n",
    "import warnings"
   ]
  },
  {
   "cell_type": "markdown",
   "id": "4ab50b48",
   "metadata": {},
   "source": [
    "## Define directories"
   ]
  },
  {
   "cell_type": "code",
   "execution_count": 2,
   "id": "42aa3bc4",
   "metadata": {},
   "outputs": [],
   "source": [
    "vtu_dir = '../vtu/'\n",
    "meshfile_dir = '../../geo/'"
   ]
  },
  {
   "cell_type": "markdown",
   "id": "87d48de1",
   "metadata": {},
   "source": [
    "## Import VTK files"
   ]
  },
  {
   "cell_type": "code",
   "execution_count": 3,
   "id": "cf89e855",
   "metadata": {},
   "outputs": [],
   "source": [
    "import vtkreader as reader"
   ]
  },
  {
   "cell_type": "code",
   "execution_count": 4,
   "id": "2ba514fe",
   "metadata": {},
   "outputs": [
    {
     "name": "stderr",
     "output_type": "stream",
     "text": [
      "100%|██████████| 250/250 [00:03<00:00, 64.69it/s]"
     ]
    },
    {
     "name": "stdout",
     "output_type": "stream",
     "text": [
      "(250, 448390)\n"
     ]
    },
    {
     "name": "stderr",
     "output_type": "stream",
     "text": [
      "\n"
     ]
    }
   ],
   "source": [
    "start = 100.00 #50\n",
    "end = 150.00   #199.98\n",
    "dt = 0.2\n",
    "\n",
    "time = np.arange(start, end, dt)\n",
    "filename = []\n",
    "for i in range(len(time)):\n",
    "    filename.append(vtu_dir+\"{:.2f}\".format(time[i])+'.vtu')\n",
    "\n",
    "x,y = reader.load_coordinate(filename[0])\n",
    "\n",
    "\n",
    "p = np.zeros([len(time),len(x)])    # only p is interested here\n",
    "u = np.zeros([len(time),len(x)])    # only p is interested here\n",
    "v = np.zeros([len(time),len(x)])    # only p is interested here\n",
    "rho = np.zeros([len(time),len(x)])    # only p is interested here\n",
    "\n",
    "\n",
    "\n",
    "for i in tqdm(range(len(time))):\n",
    "    p[i],u[i],v[i],rho[i] = reader.load_vtkFile(filename[i])\n",
    "    if time[i] == end:\n",
    "        print('loading data: done!')\n",
    "\n",
    "print(p.shape)"
   ]
  },
  {
   "cell_type": "markdown",
   "id": "546a9ec3",
   "metadata": {},
   "source": [
    "## Calculate Fluctuation Values"
   ]
  },
  {
   "cell_type": "code",
   "execution_count": 5,
   "id": "8c31cb21",
   "metadata": {},
   "outputs": [],
   "source": [
    "import basis"
   ]
  },
  {
   "cell_type": "code",
   "execution_count": 6,
   "id": "a7720178",
   "metadata": {},
   "outputs": [],
   "source": [
    "dp,dpmean,dptuda = basis.fluc_pressure(p,time)\n",
    "du,dumean,dutuda = basis.fluc_varibles(u,time,0.3*1.0)\n",
    "dv,dvmean,dvtuda = basis.fluc_varibles(v,time,0.0)\n",
    "drho,drhomean,drhotuda = basis.fluc_varibles(rho,time,1.0)"
   ]
  },
  {
   "cell_type": "code",
   "execution_count": 7,
   "id": "6093d2c8",
   "metadata": {},
   "outputs": [
    {
     "name": "stdout",
     "output_type": "stream",
     "text": [
      "(250, 448390)\n"
     ]
    }
   ],
   "source": [
    "print(drhotuda.shape)"
   ]
  },
  {
   "cell_type": "markdown",
   "id": "8bbe44fc",
   "metadata": {},
   "source": [
    "## SVD Singular-Valued Decomposition"
   ]
  },
  {
   "cell_type": "code",
   "execution_count": 8,
   "id": "dbc2808b",
   "metadata": {},
   "outputs": [],
   "source": [
    "def SVD(var,time):\n",
    "    ## check the shape of the input value\n",
    "    if var.shape[0] == len(time):\n",
    "        Y = var.T\n",
    "    elif var.shape[1] == len(time):\n",
    "        Y = var\n",
    "    else:\n",
    "        exit()\n",
    "        \n",
    "    # calculate manupulate matrix A\n",
    "    A = np.dot(Y.T,Y)\n",
    "    \n",
    "    # compute the eigenvectors and engenvalues of A\n",
    "    w, v = LA.eig(A)    # w is eigenvalue, v[:,i] is normaöized eigenvector of w[i]\n",
    "    \n",
    "    #compute sig = sqrt(w)\n",
    "    sig = np.zeros([len(w),len(w)])\n",
    "    sig_plot = np.zeros(len(w))\n",
    "    ## check routine\n",
    "    for i in w:\n",
    "        if i < 0:\n",
    "            warnings.warn('Warning!: eignevalue is smaller than 0: eig = ' + str(i))\n",
    "            if abs(i) < 10e-5:\n",
    "                warnings.warn('Warning!: eignevalue is significantly close to zero, take absolute value!')\n",
    "            else:\n",
    "                raise ValueError('Error!: Check with eigenvalue, programme exits...')\n",
    "    \n",
    "    for i in range(len(w)):\n",
    "        sig[i,i] = 1/np.sqrt(abs(w[i]))\n",
    "        sig_plot[i] = np.sqrt(abs(w[i]))\n",
    "        \n",
    "    # calculate POD MODEs U = Y*W*sig\n",
    "    U = np.dot(np.dot(Y,v),sig)\n",
    "    \n",
    "    # calculate POD coeeficiemnt matrix\n",
    "    coeff = np.dot(U.T,Y)    # x shape: first row:x1 last row:xN; first colomn:t1 last colomn:tN\n",
    "    \n",
    "    return U,coeff,sig_plot"
   ]
  },
  {
   "cell_type": "markdown",
   "id": "8cbecd0e",
   "metadata": {},
   "source": [
    "## POD routine"
   ]
  },
  {
   "cell_type": "code",
   "execution_count": 9,
   "id": "3d8c7ba7",
   "metadata": {},
   "outputs": [
    {
     "name": "stderr",
     "output_type": "stream",
     "text": [
      "/home/mech/zhenyang/.local/lib/python3.7/site-packages/ipykernel_launcher.py:22: UserWarning: Warning!: eignevalue is smaller than 0: eig = -4.865459481944178e-17\n",
      "/home/mech/zhenyang/.local/lib/python3.7/site-packages/ipykernel_launcher.py:24: UserWarning: Warning!: eignevalue is significantly close to zero, take absolute value!\n",
      "100%|██████████| 3/3 [00:00<00:00, 19448.09it/s]\n"
     ]
    }
   ],
   "source": [
    "U,coeff,sig_plot = tqdm(SVD(dptuda,time))"
   ]
  },
  {
   "cell_type": "code",
   "execution_count": 10,
   "id": "89669ad2",
   "metadata": {},
   "outputs": [
    {
     "data": {
      "text/plain": [
       "1.0000000000000615"
      ]
     },
     "execution_count": 10,
     "metadata": {},
     "output_type": "execute_result"
    }
   ],
   "source": [
    "bb = np.dot(U.T,U)\n",
    "bb[10,10]"
   ]
  },
  {
   "cell_type": "code",
   "execution_count": 11,
   "id": "997cdb6d",
   "metadata": {},
   "outputs": [],
   "source": [
    "#assume t = 0, check routine\n",
    "recover = np.zeros([U.shape[1],time.shape[0]])\n",
    "#for i in range(len(time)):\n",
    "recover = np.matmul(U,coeff)"
   ]
  },
  {
   "cell_type": "code",
   "execution_count": 12,
   "id": "844011e8",
   "metadata": {},
   "outputs": [
    {
     "data": {
      "text/plain": [
       "Text(0, 0.5, 'SVD singular vaule $\\\\sigma_i/\\\\sum_i^N\\\\sigma_i$')"
      ]
     },
     "execution_count": 12,
     "metadata": {},
     "output_type": "execute_result"
    },
    {
     "data": {
      "image/png": "[encoded data removed]",
      "text/plain": [
       "<Figure size 432x288 with 1 Axes>"
      ]
     },
     "metadata": {
      "needs_background": "light"
     },
     "output_type": "display_data"
    }
   ],
   "source": [
    "sig_sum = np.sum(sig_plot)\n",
    "plt.bar(np.arange(len(sig_plot)),sig_plot/sig_sum)\n",
    "plt.xlim([-2,50])\n",
    "plt.yscale('log')\n",
    "plt.xlabel('POD Modes')\n",
    "plt.ylabel('SVD singular vaule $\\sigma_i/\\sum_i^N\\sigma_i$')"
   ]
  },
  {
   "cell_type": "code",
   "execution_count": null,
   "id": "96ea331b",
   "metadata": {},
   "outputs": [],
   "source": []
  },
  {
   "cell_type": "markdown",
   "id": "bd42f2a1",
   "metadata": {},
   "source": [
    "## SPOD routine"
   ]
  },
  {
   "cell_type": "code",
   "execution_count": 13,
   "id": "d55798ff",
   "metadata": {},
   "outputs": [],
   "source": [
    "def SPOD(var,NFFT,overlap,FreqofInterest):\n",
    "    ## use the notation from Schimit & Colonius 2020\n",
    "    \n",
    "    def Input_routine(var,NFFT,overlap):\n",
    "        print('Input parameters:\\nNFFT = '+str(NFFT)+'\\noverlap = '+str(overlap)+'\\n')\n",
    "        ## check the shape of the input value\n",
    "        if var.shape[0] < var.shape[1]:\n",
    "            Y = var.T\n",
    "            return Y\n",
    "        elif var.shape[1] < var.shape[0]:\n",
    "            Y = var\n",
    "            return Y\n",
    "        else:\n",
    "            raise ValueError('No mate, input data shape is not alright, it is not gonna work')\n",
    "        \n",
    "\n",
    "\n",
    "\n",
    "    def Creat_blocks(var,NFFT,overlap,time):\n",
    "        print('-------------------------------------------------')\n",
    "        print('Divide the varible into blocks using \\'NFFT\\' and \\'overlap\\' parameters')\n",
    "        print('-------------------------------------------------')\n",
    "        Nblocks = int( (len(time)-NFFT) // (NFFT*(1-overlap)) + 1 )\n",
    "        print('Number of blocks: '+str(Nblocks))\n",
    "        if Nblocks < 1:\n",
    "            raise ValueError('No mate, input NFFT is larger than total time, it is not gonna work')\n",
    "        \n",
    "        blocks = np.zeros([var.shape[0],NFFT,Nblocks],dtype = 'complex_')   # blocks.shape = npts,nfft,blockid\n",
    "        for i in range(Nblocks):\n",
    "            if i == 0:\n",
    "                blocks[:,:,i] = var[:,0:NFFT]\n",
    "            else:\n",
    "                blocks[:,:,i] = var[:,int(i*NFFT-i*NFFT*overlap):int((i+1)*NFFT-i*NFFT*overlap)]\n",
    "        print('block shape: '+str(blocks.shape))\n",
    "        print('-------------------------------------------------')\n",
    "        return blocks\n",
    "\n",
    "    \n",
    "    def block_DFT(blocks):\n",
    "        print('-------------------------------------------------')\n",
    "        print('Do DFT to each block')\n",
    "        print('-------------------------------------------------')\n",
    "        def hamming_window(N):\n",
    "            '''\n",
    "                Standard Hamming window of length N\n",
    "            '''\n",
    "            x = np.arange(0,N,1)\n",
    "            window = (0.54 - 0.46 * np.cos(2 * np.pi * x / (N-1)) ).T\n",
    "            return window\n",
    "\n",
    "        #blockHat = np.zeros([blocks.shape[0],blocks.shape[1],blocks.shape[2]],dtype = 'complex_')\n",
    "\n",
    "        window = hamming_window(blocks.shape[1])\n",
    "        print('Compeleted blocks: ')\n",
    "        for i in tqdm(range(blocks.shape[2])):   #block.shape[2] == Nblocks\n",
    "            #blockHat[:,:,i] = pyfftw.interfaces.numpy_fft.fftn(blocks[:,:,i],axes=1)*window  #this could be faster\n",
    "            blocks[:,:,i] = np.fft.fft(blocks[:,:,i]*window ,axis=1)  #overwrite\n",
    "        print('blockHat shape: '+str(blocks.shape))\n",
    "        print('-------------------------------------------------')\n",
    "        return blocks\n",
    "    \n",
    "    \n",
    "    def creat_freq_blocks(blockHat,FreqofInterest):\n",
    "        print('-------------------------------------------------')\n",
    "        print('Assemble the data matrix in frequency domain: Qhat.shape = [npts,Nblocks,Nfrequencies]')\n",
    "        print('-------------------------------------------------')\n",
    "        Qhat = np.zeros([blockHat.shape[0],blockHat.shape[2],FreqofInterest],dtype = 'complex_')  # for memory problem FreqofInterest << blockHat.shape[1]\n",
    "        for i in range(FreqofInterest):\n",
    "            for j in range(blockHat.shape[2]):\n",
    "                Qhat[:,j,i] = blockHat[:,i,j]\n",
    "        print('Qhat block shape: '+str(Qhat.shape))\n",
    "        print('-------------------------------------------------') \n",
    "        return Qhat\n",
    "    \n",
    "    \n",
    "    def SPOD_SVD(Qhat):\n",
    "        print('-------------------------------------------------')\n",
    "        print('Compute inner production to each block')\n",
    "        print('-------------------------------------------------')\n",
    "\n",
    "        print('Compeleted frequencies: ')\n",
    "\n",
    "        A = np.zeros([Qhat.shape[1],Qhat.shape[1],Qhat.shape[2]],dtype = 'complex_')\n",
    "        #Weight = BuildWieghtMatrix(TypeofWeight,Nvars,shape = Qhat.shape[0])\n",
    "        for i in tqdm(range(Qhat.shape[2])):\n",
    "            \"\"\"\n",
    "                a = blockHat[:,:,i]\n",
    "                b = np.matmul(a.T,a)\n",
    "            \"\"\"\n",
    "            #A[:,:,i] = np.dot(np.dot(Qhat[:,:,i].conj().T,Weight) , Qhat[:,:,i])/(Qhat.shape[1] - 1)    #using matmul could be super slow\n",
    "            A[:,:,i] = np.dot(Qhat[:,:,i].conj().T , Qhat[:,:,i])#/(Qhat.shape[1] - 1)    #using matmul could be super slow\n",
    "        print(A.shape)\n",
    "        print('-------------------------------------------------')\n",
    "    \n",
    "    \n",
    "        print('-------------------------------------------------')\n",
    "        print('Compute the eigenvectors and engenvalues of A')\n",
    "        print('-------------------------------------------------')\n",
    "\n",
    "        w = np.zeros([A.shape[1],A.shape[2]],dtype='complex_')\n",
    "        v = np.zeros([A.shape[1],A.shape[1],A.shape[2]],dtype='complex_')\n",
    "        for i in range(A.shape[2]):\n",
    "            w[:,i], v[:,:,i] = LA.eig(A[:,:,i])    # w is eigenvalue, v[:,:,i] is normaöized eigenvector of w[:,i]\n",
    "        print('-------------------------------------------------')\n",
    "        \n",
    "        del A ## clear the memory\n",
    "        \n",
    "        ## check routine\n",
    "        for j in range(w.shape[1]):\n",
    "            for i in w[:,j]:\n",
    "                if i < 0:\n",
    "                    print('Warning!: eignevalue is smaller than 0: eig = ' + str(i))\n",
    "                    if abs(i) < 10e-5:\n",
    "                        print('Warning!: eignevalue is significantly close to zero, take absolute value!')\n",
    "                        \n",
    "                    else:\n",
    "                        raise ValueError('Error!: Check with eigenvalue, programme exits...')\n",
    "    \n",
    "    \n",
    "    \n",
    "        print('-------------------------------------------------')\n",
    "        print('Formulate eq9 in Andre\\'s paper (performing the SVD)')\n",
    "        print('-------------------------------------------------')\n",
    "\n",
    "\n",
    "        sig = np.zeros([w.shape[0],w.shape[0],w.shape[1]],dtype='complex_')\n",
    "        for i in range(w.shape[1]):\n",
    "            for j in range(w.shape[0]):\n",
    "                if w[j,i] == 0:\n",
    "                    sig[j,j,i] = 0\n",
    "                else:\n",
    "                    sig[j,j,i] = 1/np.sqrt(w[j,i])\n",
    "\n",
    "        Phi = np.zeros([Qhat.shape[0],Qhat.shape[1],Qhat.shape[2]],dtype='complex_')\n",
    "        for i in range(Qhat.shape[2]):\n",
    "            Phi[:,:,i] = np.dot(np.dot(Qhat[:,:,i],v[:,:,i]),sig[:,:,i])\n",
    "\n",
    "\n",
    "        print('-------------------Done!------------------------')\n",
    "        return Phi,w\n",
    "        \n",
    "    \n",
    "    var = Input_routine(var,NFFT,overlap)\n",
    "    overwrite_matrix = Creat_blocks(var,NFFT,overlap,time)  #here returns blocks\n",
    "    overwrite_matrix = block_DFT(overwrite_matrix)  #here returns blockHat\n",
    "    overwrite_matrix = creat_freq_blocks(overwrite_matrix,FreqofInterest) #here returns QHat\n",
    "    overwrite_matrix,w = SPOD_SVD(overwrite_matrix) #here returns Phi\n",
    "    \n",
    "        \n",
    "    return overwrite_matrix,w"
   ]
  },
  {
   "cell_type": "code",
   "execution_count": 14,
   "id": "86389e42",
   "metadata": {},
   "outputs": [],
   "source": [
    "def BuildWieghtMatrix(TypeofWeight,Nvars,shape):    #not implemented, quad rule for inner product\n",
    "    if TypeofWeight == 1:\n",
    "        weight = np.eye(Nvars*shape)\n",
    "    return Weight"
   ]
  },
  {
   "cell_type": "code",
   "execution_count": 15,
   "id": "cac509c4",
   "metadata": {},
   "outputs": [
    {
     "name": "stdout",
     "output_type": "stream",
     "text": [
      "Input parameters:\n",
      "NFFT = 128\n",
      "overlap = 0.75\n",
      "\n",
      "-------------------------------------------------\n",
      "Divide the varible into blocks using 'NFFT' and 'overlap' parameters\n",
      "-------------------------------------------------\n",
      "Number of blocks: 4\n",
      "block shape: (448390, 128, 4)\n",
      "-------------------------------------------------\n",
      "-------------------------------------------------\n",
      "Do DFT to each block\n",
      "-------------------------------------------------\n",
      "Compeleted blocks: \n"
     ]
    },
    {
     "name": "stderr",
     "output_type": "stream",
     "text": [
      "100%|██████████| 4/4 [00:05<00:00,  1.41s/it]\n"
     ]
    },
    {
     "name": "stdout",
     "output_type": "stream",
     "text": [
      "blockHat shape: (448390, 128, 4)\n",
      "-------------------------------------------------\n",
      "-------------------------------------------------\n",
      "Assemble the data matrix in frequency domain: Qhat.shape = [npts,Nblocks,Nfrequencies]\n",
      "-------------------------------------------------\n",
      "Qhat block shape: (448390, 4, 5)\n",
      "-------------------------------------------------\n",
      "-------------------------------------------------\n",
      "Compute inner production to each block\n",
      "-------------------------------------------------\n",
      "Compeleted frequencies: \n"
     ]
    },
    {
     "name": "stderr",
     "output_type": "stream",
     "text": [
      "100%|██████████| 5/5 [00:00<00:00, 25.83it/s]\n"
     ]
    },
    {
     "name": "stdout",
     "output_type": "stream",
     "text": [
      "(4, 4, 5)\n",
      "-------------------------------------------------\n",
      "-------------------------------------------------\n",
      "Compute the eigenvectors and engenvalues of A\n",
      "-------------------------------------------------\n",
      "-------------------------------------------------\n",
      "-------------------------------------------------\n",
      "Formulate eq9 in Andre's paper (performing the SVD)\n",
      "-------------------------------------------------\n",
      "-------------------Done!------------------------\n"
     ]
    }
   ],
   "source": [
    "var = dptuda\n",
    "NFFT = 128\n",
    "overlap = 0.75\n",
    "FreqofInterest = 5\n",
    "Phi,w = SPOD(var,NFFT,overlap,FreqofInterest)"
   ]
  },
  {
   "cell_type": "code",
   "execution_count": 16,
   "id": "aa877434",
   "metadata": {},
   "outputs": [
    {
     "data": {
      "text/plain": [
       "<matplotlib.legend.Legend at 0x7fa64335aef0>"
      ]
     },
     "execution_count": 16,
     "metadata": {},
     "output_type": "execute_result"
    },
    {
     "data": {
      "image/png": "[encoded data removed]",
      "text/plain": [
       "<Figure size 432x288 with 1 Axes>"
      ]
     },
     "metadata": {
      "needs_background": "light"
     },
     "output_type": "display_data"
    }
   ],
   "source": [
    "freq_index = 2\n",
    "freq = freq_index*NFFT/(dt*u.shape[0])  #f = m*NFFT/T\n",
    "sig_plot = np.sqrt(w[:,freq_index])\n",
    "sigg_sum = np.sum(sig_plot.real)\n",
    "    \n",
    "plt.bar(np.arange(sig_plot.shape[0]),sig_plot.real/sigg_sum,label='Freq = '+str(freq))\n",
    "#plt.xlim([-2,50])\n",
    "#plt.yscale('log')\n",
    "plt.xlabel('SPOD Modes')\n",
    "plt.ylabel('SVD singular vaule $\\sigma_i/\\sum_i^N\\sigma_i$')\n",
    "plt.legend()"
   ]
  },
  {
   "cell_type": "code",
   "execution_count": 17,
   "id": "5b09a561",
   "metadata": {},
   "outputs": [
    {
     "data": {
      "text/plain": [
       "<matplotlib.legend.Legend at 0x7fa643332080>"
      ]
     },
     "execution_count": 17,
     "metadata": {},
     "output_type": "execute_result"
    },
    {
     "data": {
      "image/png": "[encoded data removed]",
      "text/plain": [
       "<Figure size 432x288 with 1 Axes>"
      ]
     },
     "metadata": {
      "needs_background": "light"
     },
     "output_type": "display_data"
    }
   ],
   "source": [
    "freq_index = 1\n",
    "SPOD_eig = w[:,freq_index]    \n",
    "freq = freq_index*NFFT/(dt*u.shape[0])  #f = m*NFFT/T\n",
    "plt.bar(np.arange(SPOD_eig.shape[0]),SPOD_eig.real,label='Freq = '+str(freq))\n",
    "#plt.xlim([-2,50])\n",
    "plt.yscale('log')\n",
    "plt.xlabel('SPOD Modes')\n",
    "plt.ylabel('$\\lambda$')\n",
    "plt.legend()"
   ]
  },
  {
   "cell_type": "code",
   "execution_count": 18,
   "id": "f7cf09ba",
   "metadata": {},
   "outputs": [
    {
     "data": {
      "text/plain": [
       "<matplotlib.legend.Legend at 0x7fa64322c668>"
      ]
     },
     "execution_count": 18,
     "metadata": {},
     "output_type": "execute_result"
    },
    {
     "data": {
      "image/png": "[encoded data removed]",
      "text/plain": [
       "<Figure size 432x288 with 1 Axes>"
      ]
     },
     "metadata": {
      "needs_background": "light"
     },
     "output_type": "display_data"
    }
   ],
   "source": [
    "freq_index = np.arange(w.shape[1])\n",
    " \n",
    "freq = freq_index*NFFT/(dt*u.shape[0])  #f = m*NFFT/T\n",
    "plt.bar(freq,w[0,:].real,label='First eig')\n",
    "plt.bar(freq,w[1,:].real,label='Second eig')\n",
    "plt.bar(freq,w[2,:].real,label='Third eig')\n",
    "\n",
    "plt.xlabel('Freq')\n",
    "plt.ylabel('$\\lambda$')\n",
    "plt.legend()"
   ]
  },
  {
   "cell_type": "code",
   "execution_count": 19,
   "id": "33e69b71",
   "metadata": {},
   "outputs": [
    {
     "name": "stdout",
     "output_type": "stream",
     "text": [
      "(3.9999999999999836+0j)\n"
     ]
    }
   ],
   "source": [
    "aa = np.dot(Phi[:,:,2].conj().T,Phi[:,:,2])\n",
    "print(aa.trace())"
   ]
  },
  {
   "cell_type": "code",
   "execution_count": 20,
   "id": "a984d39c",
   "metadata": {},
   "outputs": [
    {
     "data": {
      "text/plain": [
       "(448390, 4, 5)"
      ]
     },
     "execution_count": 20,
     "metadata": {},
     "output_type": "execute_result"
    }
   ],
   "source": [
    "Phi.shape"
   ]
  },
  {
   "cell_type": "code",
   "execution_count": null,
   "id": "9c9a1886",
   "metadata": {},
   "outputs": [],
   "source": []
  },
  {
   "cell_type": "code",
   "execution_count": null,
   "id": "0912ddc1",
   "metadata": {},
   "outputs": [],
   "source": []
  },
  {
   "cell_type": "code",
   "execution_count": null,
   "id": "1151540d",
   "metadata": {},
   "outputs": [],
   "source": []
  },
  {
   "cell_type": "markdown",
   "id": "966c5ebf",
   "metadata": {},
   "source": [
    "## Write to vtk file"
   ]
  },
  {
   "cell_type": "code",
   "execution_count": 21,
   "id": "419aecaa",
   "metadata": {},
   "outputs": [],
   "source": [
    "import vtkwriter as writer\n",
    "U = Phi[:,:,0].real"
   ]
  },
  {
   "cell_type": "code",
   "execution_count": 23,
   "id": "3f69adab",
   "metadata": {},
   "outputs": [
    {
     "name": "stdout",
     "output_type": "stream",
     "text": [
      "(448390, 4)\n",
      "Writing...\n",
      "Done!\n"
     ]
    }
   ],
   "source": [
    "length = 4\n",
    "input_time = 0  \n",
    "append_data = np.zeros([U.shape[0],length])\n",
    "append_data[:,0:length] = U[:,0:length]\n",
    "#append_data[:,length] = dp[input_time,:]\n",
    "#append_data[:,length+1] = recover[:,input_time]\n",
    "\n",
    "append_data_name = []\n",
    "for i in range(length):\n",
    "    append_data_name.append('mode_'+str(i))\n",
    "print(append_data.shape)\n",
    "  \n",
    "#append_data_name.append('dp')\n",
    "#append_data_name.append('recovered')\n",
    "\n",
    "length = append_data.shape[1]\n",
    "input_file_name = '../vtu/100.00.vtu'\n",
    "\n",
    "writer.yzywriter(input_file_name,append_data,append_data_name,length)"
   ]
  },
  {
   "cell_type": "code",
   "execution_count": 24,
   "id": "979036aa",
   "metadata": {},
   "outputs": [
    {
     "name": "stdout",
     "output_type": "stream",
     "text": [
      "1.53306002875081e-12\n"
     ]
    }
   ],
   "source": [
    "## check the differency between recover field and original\n",
    "df = LA.norm(dptuda[input_time,:] - recover[:,input_time],np.inf)\n",
    "print(df)"
   ]
  },
  {
   "cell_type": "code",
   "execution_count": null,
   "id": "e7dc63e2",
   "metadata": {},
   "outputs": [],
   "source": []
  },
  {
   "cell_type": "code",
   "execution_count": null,
   "id": "59e728a2",
   "metadata": {},
   "outputs": [],
   "source": []
  },
  {
   "cell_type": "code",
   "execution_count": null,
   "id": "a1a366c7",
   "metadata": {},
   "outputs": [],
   "source": []
  },
  {
   "cell_type": "code",
   "execution_count": null,
   "id": "37b789b5",
   "metadata": {},
   "outputs": [],
   "source": []
  },
  {
   "cell_type": "code",
   "execution_count": null,
   "id": "6fbca787",
   "metadata": {},
   "outputs": [],
   "source": []
  },
  {
   "cell_type": "code",
   "execution_count": null,
   "id": "c94f0cb8",
   "metadata": {},
   "outputs": [],
   "source": []
  },
  {
   "cell_type": "code",
   "execution_count": null,
   "id": "c9d1bd4b",
   "metadata": {},
   "outputs": [],
   "source": []
  },
  {
   "cell_type": "code",
   "execution_count": null,
   "id": "8be163b4",
   "metadata": {},
   "outputs": [],
   "source": []
  },
  {
   "cell_type": "code",
   "execution_count": null,
   "id": "ad877d4b",
   "metadata": {},
   "outputs": [],
   "source": []
  },
  {
   "cell_type": "code",
   "execution_count": null,
   "id": "de2a5656",
   "metadata": {},
   "outputs": [],
   "source": []
  }
 ],
 "metadata": {
  "kernelspec": {
   "display_name": "Python 3",
   "language": "python",
   "name": "python3"
  },
  "language_info": {
   "codemirror_mode": {
    "name": "ipython",
    "version": 3
   },
   "file_extension": ".py",
   "mimetype": "text/x-python",
   "name": "python",
   "nbconvert_exporter": "python",
   "pygments_lexer": "ipython3",
   "version": "3.7.3"
  }
 },
 "nbformat": 4,
 "nbformat_minor": 5
}
