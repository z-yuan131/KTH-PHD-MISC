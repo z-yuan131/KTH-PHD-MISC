{
 "cells": [
  {
   "cell_type": "code",
   "execution_count": 1,
   "id": "c2751c63",
   "metadata": {},
   "outputs": [],
   "source": [
    "import numpy as np\n",
    "import pyfftw\n",
    "\n",
    "from math import pi\n",
    "import math\n",
    "\n",
    "import matplotlib.pyplot as plt\n",
    "import matplotlib.pylab as pylab\n",
    "from scipy.interpolate import griddata\n",
    "from scipy.interpolate import interp1d\n",
    "import scipy.signal\n",
    "from numpy import linalg as LA\n",
    "#from matplotlib.mlab import griddata\n",
    "params = {'legend.fontsize': 15,\n",
    "          'legend.loc':'best',\n",
    "          'figure.figsize': (14,5),\n",
    "          'lines.markerfacecolor':'none',\n",
    "         'axes.labelsize': 17,\n",
    "         'axes.titlesize': 17,\n",
    "         'xtick.labelsize':15,\n",
    "         'ytick.labelsize':15,\n",
    "         'grid.alpha':0.6}\n",
    "pylab.rcParams.update(params)\n",
    "#%matplotlib notebook\n",
    "%matplotlib inline\n",
    "\n",
    "from tqdm import tqdm\n",
    "import sys"
   ]
  },
  {
   "cell_type": "markdown",
   "id": "2b19ef57",
   "metadata": {},
   "source": [
    "## Define directories"
   ]
  },
  {
   "cell_type": "code",
   "execution_count": 2,
   "id": "cd72b314",
   "metadata": {},
   "outputs": [],
   "source": [
    "vtu_dir = '../vtu/'\n",
    "meshfile_dir = '../../geo/'"
   ]
  },
  {
   "cell_type": "markdown",
   "id": "97a4bc22",
   "metadata": {},
   "source": [
    "## Import VTK files"
   ]
  },
  {
   "cell_type": "code",
   "execution_count": 3,
   "id": "c421ca3e",
   "metadata": {},
   "outputs": [
    {
     "name": "stderr",
     "output_type": "stream",
     "text": [
      "100%|██████████| 500/500 [00:08<00:00, 59.80it/s]"
     ]
    },
    {
     "name": "stdout",
     "output_type": "stream",
     "text": [
      "(500, 448390)\n"
     ]
    },
    {
     "name": "stderr",
     "output_type": "stream",
     "text": [
      "\n"
     ]
    }
   ],
   "source": [
    "import vtkreader as reader\n",
    "\n",
    "start = 100.00 #50\n",
    "end = 150.00   #199.98\n",
    "dt = 0.1  #0.02\n",
    "\n",
    "time = np.arange(start, end, dt)\n",
    "filename = []\n",
    "for i in range(len(time)):\n",
    "    filename.append(vtu_dir+\"{:.2f}\".format(time[i])+'.vtu')\n",
    "\n",
    "x,y = reader.load_coordinate(filename[0])\n",
    "#NcellData,Ncell,cellData = reader.load_cell(filename[0])\n",
    "\n",
    "\n",
    "\n",
    "p = np.zeros([len(time),len(x)])    # only p is interested here\n",
    "u = np.zeros([len(time),len(x)])    # only p is interested here\n",
    "v = np.zeros([len(time),len(x)])    # only p is interested here\n",
    "rho = np.zeros([len(time),len(x)])    # only p is interested here\n",
    "\n",
    "\n",
    "\n",
    "for i in tqdm(range(len(time))):\n",
    "    p[i],u[i],v[i],rho[i] = reader.load_vtkFile(filename[i])\n",
    "    if time[i] == end:\n",
    "        print('loading data: done!')\n",
    "\n",
    "print(p.shape)"
   ]
  },
  {
   "cell_type": "code",
   "execution_count": 4,
   "id": "5e76cf94",
   "metadata": {},
   "outputs": [],
   "source": [
    "# Read the source file.\n",
    "import vtk\n",
    "import vtk.util.numpy_support as ns\n",
    "reader = vtk.vtkXMLUnstructuredGridReader()   # read the fucking file\n",
    "reader.SetFileName(filename[0])\n",
    "reader.Update()                               # Needed because of GetScalarRange\n",
    "\n",
    "NcellData = reader.GetOutput().GetCells().GetData().GetNumberOfTuples()\n",
    "Ncell = reader.GetOutput().GetNumberOfCells()\n",
    "cellData = ns.vtk_to_numpy(reader.GetOutput().GetCells().GetData()) "
   ]
  },
  {
   "cell_type": "code",
   "execution_count": 5,
   "id": "17b3722c",
   "metadata": {},
   "outputs": [],
   "source": [
    "def quad_area(x,y):\n",
    "    index1 = [0,1,2]\n",
    "    index2 = [1,2,3]\n",
    "    index3 = [2,3,0]\n",
    "    index4 = [3,0,1]\n",
    "    a1 = tri_area(x[index1],y[index1])\n",
    "    a2 = tri_area(x[index2],y[index2])\n",
    "    a3 = tri_area(x[index3],y[index3])\n",
    "    a4 = tri_area(x[index4],y[index4])\n",
    "    \n",
    "    \n",
    "    return 1/2*(a1+a2+a3+a4)\n",
    "def tri_area(x,y):\n",
    "    # area of triangle by calculate Jacobian determint\n",
    "    area = x[1]*y[2]+x[2]*y[0]+x[0]*y[1]-x[1]*y[0]-x[2]*y[1]-x[0]*y[2]\n",
    "    return 1/2*abs(area)"
   ]
  },
  {
   "cell_type": "code",
   "execution_count": 6,
   "id": "4442104e",
   "metadata": {},
   "outputs": [
    {
     "name": "stderr",
     "output_type": "stream",
     "text": [
      "100%|██████████| 454464/454464 [00:04<00:00, 106473.73it/s]\n"
     ]
    }
   ],
   "source": [
    "cellType = np.zeros(Ncell)\n",
    "cell_quad = []\n",
    "cell_tri = []\n",
    "area = np.zeros(x.shape[0])\n",
    "\n",
    "k = 0\n",
    "for i in tqdm(range(Ncell)):\n",
    "    cellType[i] = reader.GetOutput().GetCell(i).GetCellType()\n",
    "    if cellType[i] == 9:\n",
    "        cell_quad.append(i)\n",
    "        \n",
    "        index = cellData[k+1:k+5]\n",
    "        area[index] += 1/4*quad_area(x[index],y[index])\n",
    "        k += 5\n",
    "        \n",
    "    elif cellType[i] == 5:\n",
    "        cell_tri.append(i)\n",
    "        index = cellData[k+1:k+4]\n",
    "        area[index] += 1/3*tri_area(x[index],y[index])\n",
    "        k += 4\n",
    "        \n",
    "    else:\n",
    "        raise ValueError('Nah, something wrong,cell type is not supported')\n",
    "        break"
   ]
  },
  {
   "cell_type": "code",
   "execution_count": 7,
   "id": "2f001de5",
   "metadata": {},
   "outputs": [
    {
     "name": "stdout",
     "output_type": "stream",
     "text": [
      "1853584\n",
      "245088\n",
      "1853584\n",
      "[ 3  0  1  5  3  6  1  5  3  1  2  6  3  7  2  6  3  2  3  7  3  8  3  7\n",
      "  3  3  4  8  3  5  6  9  3 10  6  9  3  6  7 10  3 11  7 10  3  7  8 11\n",
      "  3  9 10 12  3 13 10 12  3 10 11 13  3 12 13 14  3 15 16 20  3 21 16 20\n",
      "  3 16 17 21  3 22 17 21  3 17 18 22  3 23 18 22  3 18 19 23  3 20 21 24\n",
      "  3 25 21 24]\n"
     ]
    }
   ],
   "source": [
    "print(len(cell_tri)*4+len(cell_quad)*5)\n",
    "print(cell_quad[0])\n",
    "print(NcellData)\n",
    "print(cellData[0:100])"
   ]
  },
  {
   "cell_type": "code",
   "execution_count": 8,
   "id": "7b8bbedd",
   "metadata": {},
   "outputs": [],
   "source": [
    "for i in range(area.shape[0]):  ##check if area is negative\n",
    "    if area[i] <= 0:\n",
    "        print(i)\n",
    "        break"
   ]
  },
  {
   "cell_type": "code",
   "execution_count": null,
   "id": "172b0635",
   "metadata": {},
   "outputs": [],
   "source": []
  },
  {
   "cell_type": "markdown",
   "id": "63b6e1c7",
   "metadata": {},
   "source": [
    "## Hanifi Norm"
   ]
  },
  {
   "cell_type": "code",
   "execution_count": 9,
   "id": "c9e26c8b",
   "metadata": {},
   "outputs": [],
   "source": [
    "T = np.divide(p,rho)/287.058"
   ]
  },
  {
   "cell_type": "code",
   "execution_count": 10,
   "id": "32678614",
   "metadata": {},
   "outputs": [],
   "source": [
    "import basis\n",
    "\n",
    "dp,dpmean,dptuda = basis.fluc_pressure(p,time)\n",
    "du,dumean,dutuda = basis.fluc_varibles(u,time,0.3*1.0)\n",
    "dv,dvmean,dvtuda = basis.fluc_varibles(v,time,0.0)\n",
    "drho,drhomean,drhotuda = basis.fluc_varibles(rho,time,1.0)\n",
    "dT,dTmean,dTtuda = basis.fluc_varibles(T,time,1/1.4/1/287.058)"
   ]
  },
  {
   "cell_type": "code",
   "execution_count": 11,
   "id": "4d70cd6a",
   "metadata": {},
   "outputs": [],
   "source": [
    "## assemble input matrix\n",
    "\n",
    "# TKE\n",
    "flucU = np.concatenate((dutuda,dvtuda),axis=1)\n",
    "\n",
    "# Compressible energy norm\n",
    "HN_E = np.concatenate((drhotuda,dutuda,dvtuda,dTtuda),axis=1)  ##input varibles\n",
    "\n",
    "gamma = 1.4\n",
    "rho_inf = 1.0\n",
    "c_inf = 1.0\n",
    "M = 0.3*c_inf\n",
    "p_inf = c_inf*c_inf*rho_inf/gamma\n",
    "T_inf = p_inf/rho_inf/287.058\n",
    "\n",
    "rho_mean = np.sum(rho,axis=0)/rho.shape[0]   ##calculate local mean values\n",
    "T_mean = np.sum(T,axis=0)/T.shape[0]\n",
    "\n",
    "## assemble W before the integral\n",
    "HN_mean = np.concatenate((T_mean/rho_mean/gamma/M/M,rho_mean,rho_mean,rho_mean/gamma/(1-gamma)/T_mean/M/M),axis=None)"
   ]
  },
  {
   "cell_type": "code",
   "execution_count": null,
   "id": "9529ee0e",
   "metadata": {},
   "outputs": [],
   "source": []
  },
  {
   "cell_type": "code",
   "execution_count": null,
   "id": "bc7293e8",
   "metadata": {},
   "outputs": [],
   "source": []
  },
  {
   "cell_type": "code",
   "execution_count": 12,
   "id": "2c163817",
   "metadata": {},
   "outputs": [
    {
     "data": {
      "text/plain": [
       "(500, 1793560)"
      ]
     },
     "execution_count": 12,
     "metadata": {},
     "output_type": "execute_result"
    }
   ],
   "source": [
    "HN_E.shape"
   ]
  },
  {
   "cell_type": "code",
   "execution_count": 13,
   "id": "621cea0e",
   "metadata": {},
   "outputs": [],
   "source": [
    "def TKE_norm(flucU,area):\n",
    "    if flucU.shape[0] < flucU.shape[1]:\n",
    "        Y = flucU.T\n",
    "    elif var.shape[1] < flucU.shape[0]:\n",
    "        Y = flucU\n",
    "    else:\n",
    "        ValueError('No mate, input data shape is not alright, it is not gonna work')\n",
    "        return 0\n",
    "    \n",
    "    \n",
    "    # build weight matrix (vector)\n",
    "    W = np.zeros(area.shape[0]*int(Y.shape[0]/area.shape[0]))\n",
    "    W[0:area.shape[0]] += area\n",
    "    W[area.shape[0]:] += area    \n",
    "    \n",
    "    # TKE calculation\n",
    "    aa = np.zeros([Y.T.shape[0],Y.T.shape[1]])\n",
    "    for i in range(Y.T.shape[0]):\n",
    "        aa[i] = Y.T[i]*W\n",
    "    TKE = np.diag(np.dot(aa,Y))\n",
    "    \n",
    "    return TKE\n",
    "    "
   ]
  },
  {
   "cell_type": "code",
   "execution_count": 14,
   "id": "2b1c9ecf",
   "metadata": {},
   "outputs": [],
   "source": [
    "def Hanifi_norm(total,area,meanvalues):\n",
    "    if total.shape[0] < total.shape[1]:\n",
    "        Y = total.T\n",
    "    elif var.shape[1] < total.shape[0]:\n",
    "        Y = total\n",
    "    else:\n",
    "        ValueError('No mate, input data shape is not alright, it is not gonna work')\n",
    "        return 0\n",
    "    \n",
    "    # build weight matrix (vector)\n",
    "    W = np.zeros(area.shape[0]*int(Y.shape[0]/area.shape[0]))\n",
    "    for i in range(int(Y.shape[0]/area.shape[0])):\n",
    "        W[i*area.shape[0]:(i+1)*area.shape[0]] = area*meanvalues[i*area.shape[0]:(i+1)*area.shape[0]]\n",
    "    \n",
    "    # hanifi norm\n",
    "    aa = np.zeros([Y.T.shape[0],Y.T.shape[1]])\n",
    "    for i in range(Y.T.shape[0]):\n",
    "        aa[i] = Y.T[i]*W\n",
    "    #HN = np.diag(np.dot(aa,Y))\n",
    "    HN = np.dot(aa,Y)\n",
    "    \n",
    "    return HN"
   ]
  },
  {
   "cell_type": "code",
   "execution_count": 15,
   "id": "94a9ee3f",
   "metadata": {},
   "outputs": [
    {
     "data": {
      "text/plain": [
       "(500,)"
      ]
     },
     "execution_count": 15,
     "metadata": {},
     "output_type": "execute_result"
    }
   ],
   "source": [
    "TKE = TKE_norm(flucU,area)\n",
    "TKE.shape"
   ]
  },
  {
   "cell_type": "code",
   "execution_count": 16,
   "id": "2b7e1f6b",
   "metadata": {},
   "outputs": [
    {
     "data": {
      "text/plain": [
       "(500, 500)"
      ]
     },
     "execution_count": 16,
     "metadata": {},
     "output_type": "execute_result"
    }
   ],
   "source": [
    "HN = Hanifi_norm(HN_E,area,HN_mean)\n",
    "HN.shape"
   ]
  },
  {
   "cell_type": "code",
   "execution_count": 17,
   "id": "27dfbeea",
   "metadata": {},
   "outputs": [
    {
     "data": {
      "text/plain": [
       "Text(0, 0.5, 'TKE')"
      ]
     },
     "execution_count": 17,
     "metadata": {},
     "output_type": "execute_result"
    },
    {
     "data": {
      "image/png": "[encoded data removed]",
      "text/plain": [
       "<Figure size 432x288 with 1 Axes>"
      ]
     },
     "metadata": {
      "needs_background": "light"
     },
     "output_type": "display_data"
    }
   ],
   "source": [
    "plt.plot(np.arange(time.shape[0]),TKE,'-')\n",
    "#plt.yscale('log')\n",
    "plt.xlabel('time_step')\n",
    "plt.ylabel('TKE')"
   ]
  },
  {
   "cell_type": "code",
   "execution_count": 18,
   "id": "826fdb83",
   "metadata": {},
   "outputs": [
    {
     "data": {
      "text/plain": [
       "Text(0, 0.5, 'HN')"
      ]
     },
     "execution_count": 18,
     "metadata": {},
     "output_type": "execute_result"
    },
    {
     "data": {
      "image/png": "[encoded data removed]",
      "text/plain": [
       "<Figure size 432x288 with 1 Axes>"
      ]
     },
     "metadata": {
      "needs_background": "light"
     },
     "output_type": "display_data"
    }
   ],
   "source": [
    "plt.plot(np.arange(time.shape[0]),np.diag(HN),'-')\n",
    "#plt.yscale('log')\n",
    "plt.xlabel('time_step')\n",
    "plt.ylabel('HN')\n",
    "#plt.xlim([0,100])"
   ]
  },
  {
   "cell_type": "code",
   "execution_count": null,
   "id": "af428333",
   "metadata": {},
   "outputs": [],
   "source": []
  },
  {
   "cell_type": "code",
   "execution_count": null,
   "id": "e3573d4b",
   "metadata": {},
   "outputs": [],
   "source": []
  },
  {
   "cell_type": "code",
   "execution_count": 19,
   "id": "6c8e65e7",
   "metadata": {},
   "outputs": [
    {
     "data": {
      "text/plain": [
       "'/ Linear cells\\n  VTK_EMPTY_CELL: 0,\\n  VTK_VERTEX: 1,\\n  VTK_POLY_VERTEX: 2,\\n  VTK_LINE: 3,\\n  VTK_POLY_LINE: 4,\\n  VTK_TRIANGLE: 5,\\n  VTK_TRIANGLE_STRIP: 6,\\n  VTK_POLYGON: 7,\\n  VTK_PIXEL: 8,\\n  VTK_QUAD: 9,\\n  VTK_TETRA: 10,\\n  VTK_VOXEL: 11,\\n  VTK_HEXAHEDRON: 12,\\n  VTK_WEDGE: 13,\\n  VTK_PYRAMID: 14,\\n  VTK_PENTAGONAL_PRISM: 15,\\n  VTK_HEXAGONAL_PRISM: 16,\\n\\n  // Quadratic, isoparametric cells\\n  VTK_QUADRATIC_EDGE: 21,\\n  VTK_QUADRATIC_TRIANGLE: 22,\\n  VTK_QUADRATIC_QUAD: 23,\\n  VTK_QUADRATIC_POLYGON: 36,\\n  VTK_QUADRATIC_TETRA: 24,\\n  VTK_QUADRATIC_HEXAHEDRON: 25,\\n  VTK_QUADRATIC_WEDGE: 26,\\n  VTK_QUADRATIC_PYRAMID: 27,\\n  VTK_BIQUADRATIC_QUAD: 28,\\n  VTK_TRIQUADRATIC_HEXAHEDRON: 29,\\n  VTK_QUADRATIC_LINEAR_QUAD: 30,\\n  VTK_QUADRATIC_LINEAR_WEDGE: 31,\\n  VTK_BIQUADRATIC_QUADRATIC_WEDGE: 32,\\n  VTK_BIQUADRATIC_QUADRATIC_HEXAHEDRON: 33,\\n  VTK_BIQUADRATIC_TRIANGLE: 34,'"
      ]
     },
     "execution_count": 19,
     "metadata": {},
     "output_type": "execute_result"
    }
   ],
   "source": [
    "\"\"\"/ Linear cells\n",
    "  VTK_EMPTY_CELL: 0,\n",
    "  VTK_VERTEX: 1,\n",
    "  VTK_POLY_VERTEX: 2,\n",
    "  VTK_LINE: 3,\n",
    "  VTK_POLY_LINE: 4,\n",
    "  VTK_TRIANGLE: 5,\n",
    "  VTK_TRIANGLE_STRIP: 6,\n",
    "  VTK_POLYGON: 7,\n",
    "  VTK_PIXEL: 8,\n",
    "  VTK_QUAD: 9,\n",
    "  VTK_TETRA: 10,\n",
    "  VTK_VOXEL: 11,\n",
    "  VTK_HEXAHEDRON: 12,\n",
    "  VTK_WEDGE: 13,\n",
    "  VTK_PYRAMID: 14,\n",
    "  VTK_PENTAGONAL_PRISM: 15,\n",
    "  VTK_HEXAGONAL_PRISM: 16,\n",
    "\n",
    "  // Quadratic, isoparametric cells\n",
    "  VTK_QUADRATIC_EDGE: 21,\n",
    "  VTK_QUADRATIC_TRIANGLE: 22,\n",
    "  VTK_QUADRATIC_QUAD: 23,\n",
    "  VTK_QUADRATIC_POLYGON: 36,\n",
    "  VTK_QUADRATIC_TETRA: 24,\n",
    "  VTK_QUADRATIC_HEXAHEDRON: 25,\n",
    "  VTK_QUADRATIC_WEDGE: 26,\n",
    "  VTK_QUADRATIC_PYRAMID: 27,\n",
    "  VTK_BIQUADRATIC_QUAD: 28,\n",
    "  VTK_TRIQUADRATIC_HEXAHEDRON: 29,\n",
    "  VTK_QUADRATIC_LINEAR_QUAD: 30,\n",
    "  VTK_QUADRATIC_LINEAR_WEDGE: 31,\n",
    "  VTK_BIQUADRATIC_QUADRATIC_WEDGE: 32,\n",
    "  VTK_BIQUADRATIC_QUADRATIC_HEXAHEDRON: 33,\n",
    "  VTK_BIQUADRATIC_TRIANGLE: 34,\"\"\""
   ]
  },
  {
   "cell_type": "code",
   "execution_count": null,
   "id": "ac90dd7b",
   "metadata": {},
   "outputs": [],
   "source": []
  },
  {
   "cell_type": "code",
   "execution_count": 81,
   "id": "6fb2e61e",
   "metadata": {},
   "outputs": [],
   "source": []
  },
  {
   "cell_type": "code",
   "execution_count": null,
   "id": "59f0a1fe",
   "metadata": {},
   "outputs": [],
   "source": []
  }
 ],
 "metadata": {
  "kernelspec": {
   "display_name": "Python 3",
   "language": "python",
   "name": "python3"
  },
  "language_info": {
   "codemirror_mode": {
    "name": "ipython",
    "version": 3
   },
   "file_extension": ".py",
   "mimetype": "text/x-python",
   "name": "python",
   "nbconvert_exporter": "python",
   "pygments_lexer": "ipython3",
   "version": "3.7.3"
  }
 },
 "nbformat": 4,
 "nbformat_minor": 5
}
