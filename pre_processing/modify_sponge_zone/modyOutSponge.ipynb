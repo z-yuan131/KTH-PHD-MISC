{
 "cells": [
  {
   "cell_type": "code",
   "execution_count": 1,
   "id": "friendly-binding",
   "metadata": {},
   "outputs": [],
   "source": [
    "##########################################\n",
    "# Modifications inside the sponge zone (outflow) to meet bc requirement #\n",
    "# Zhenyang Yuan                          #\n",
    "# 25/5/2021                              #\n",
    "##########################################\n",
    "import numpy as np\n",
    "from math import pi\n",
    "import math\n",
    "import matplotlib.pyplot as plt\n",
    "import matplotlib.pylab as pylab\n",
    "from scipy.interpolate import griddata\n",
    "from scipy.interpolate import interp1d\n",
    "import scipy.signal\n",
    "from numpy import linalg as LA\n",
    "#from matplotlib.mlab import griddata\n",
    "params = {'legend.fontsize': 15,\n",
    "          'legend.loc':'best',\n",
    "          'figure.figsize': (14,5),\n",
    "          'lines.markerfacecolor':'none',\n",
    "         'axes.labelsize': 17,\n",
    "         'axes.titlesize': 17,\n",
    "         'xtick.labelsize':15,\n",
    "         'ytick.labelsize':15,\n",
    "         'grid.alpha':0.6}\n",
    "pylab.rcParams.update(params)\n",
    "#%matplotlib notebook\n",
    "%matplotlib inline\n",
    "\n",
    "\n",
    "from sys import argv\n",
    "\n",
    "import pandas as pd"
   ]
  },
  {
   "cell_type": "code",
   "execution_count": 2,
   "id": "martial-garbage",
   "metadata": {},
   "outputs": [],
   "source": [
    "# load data set\n",
    "def data_load(headline,varibles,numNodes,Lines):\n",
    "    \n",
    "\n",
    "    x = np.asarray([])\n",
    "    y = np.asarray([])\n",
    "    rho = np.asarray([])\n",
    "    rhou = np.asarray([])\n",
    "    rhov = np.asarray([])\n",
    "    E = np.asarray([])\n",
    "    \n",
    "    \n",
    "        \n",
    "    \n",
    "\n",
    "    k = 0\n",
    "    #for i in open(\"../send/\"+str(time)+\".dat\").readlines():\n",
    "    for i in open(\"test.dat\").readlines():\n",
    "        if k > headline - 1:                                #get away with headers\n",
    "            datContent = i.strip().split()                  #magic\n",
    "\n",
    "            datContent = np.asarray(datContent)             #convert list to array\n",
    "            datContent = datContent.astype(np.float64)      #convert str element to float\n",
    "\n",
    "           \n",
    "            if k < Lines*1 + headline :\n",
    "                    x = np.concatenate((x,datContent),axis=None)\n",
    "            elif k < Lines*2 + headline :\n",
    "                    y = np.concatenate((y,datContent),axis=None)\n",
    "            elif k < Lines*3 + headline :\n",
    "                    rho = np.concatenate((rho,datContent),axis=None)\n",
    "            elif k < Lines*4 + headline :\n",
    "                    rhou = np.concatenate((rhou,datContent),axis=None)\n",
    "            elif k < Lines*5 + headline :\n",
    "                    rhov = np.concatenate((rhov,datContent),axis=None)\n",
    "            elif k < Lines*6 + headline :\n",
    "                    E = np.concatenate((E,datContent),axis=None)\n",
    "            else:\n",
    "                break\n",
    "        k += 1\n",
    "\n",
    " \n",
    "\n",
    "    print('Completed Reading data!\\n')\n",
    "\n",
    "    return x,y,rho,rhou,rhov,E\n",
    "    \n"
   ]
  },
  {
   "cell_type": "code",
   "execution_count": 3,
   "id": "distributed-bouquet",
   "metadata": {},
   "outputs": [],
   "source": [
    "def data_process(x_,y_,rho_,rhou_,rhov_,E_):\n",
    "    \n",
    "    \n",
    "    x = np.asarray([])\n",
    "    y = np.asarray([])\n",
    "    rho = np.asarray([])\n",
    "    rhou = np.asarray([])\n",
    "    rhov = np.asarray([])\n",
    "    E = np.asarray([])\n",
    "    \n",
    "    index = np.asarray([])\n",
    "    \n",
    "            \n",
    "    \n",
    "    for i in range(4,len(x_)-4):\n",
    "        if x_[i] != x_[i+1] and y_[i] != y_[i+1] and x_[i] != x_[i-1] and y_[i] != y_[i-1]:\n",
    "            index = np.concatenate((index,i),axis=None)\n",
    "        elif x_[i] == x_[i+1] and y_[i] == y_[i+1] and x_[i] != x_[i-1] and y_[i] != y_[i-1]:\n",
    "            index = np.concatenate((index,i),axis=None)\n",
    "            \n",
    "    index = index.astype(np.int32)\n",
    "    \n",
    "    x = x_[index]\n",
    "    y = y_[index]\n",
    "    rho = rho_[index]\n",
    "    rhou = rhou_[index]\n",
    "    rhov = rhov_[index]\n",
    "    E = E_[index]\n",
    "    \n",
    "                \n",
    "    return x,y,rho,rhou,rhov,E\n",
    "    "
   ]
  },
  {
   "cell_type": "code",
   "execution_count": 4,
   "id": "similar-mentor",
   "metadata": {},
   "outputs": [
    {
     "name": "stdout",
     "output_type": "stream",
     "text": [
      "Completed Reading data!\n",
      "\n"
     ]
    }
   ],
   "source": [
    "headline=20\n",
    "varibles=6   # x-1, y-2, rho-3, rhou-4, rhov-5, E-6, u-7, v-8, p-9, T, s, a, Mach, Sensor\n",
    "numNodes=95295\n",
    "Lines=int(numNodes/5) #from tecplot\n",
    "#Lines=int(numNodes/1000)+1 #fieldconvert\n",
    "\n",
    "\n",
    "\n",
    "x_,y_,rho_,rhou_,rhov_,E_ = data_load(headline,varibles,numNodes,Lines)\n",
    "\n",
    "x,y,rho,rhou,rhov,E = data_process(x_,y_,rho_,rhou_,rhov_,E_)\n",
    "\n",
    "\n",
    "\n"
   ]
  },
  {
   "cell_type": "code",
   "execution_count": 5,
   "id": "second-printing",
   "metadata": {},
   "outputs": [],
   "source": [
    "def Modyfication(x,var,var_ref,xmin,xmax,method):\n",
    "    # step function:\n",
    "    f = lambda x_: 6*((x_-xmin)/(xmax-xmin))**5 - 15*((x_-xmin)/(xmax-xmin))**4 +10*((x_-xmin)/(xmax-xmin))**3\n",
    "    \n",
    "    # tanh function\n",
    "    #f2 = lambda x:\n",
    "    \n",
    "    #sponge zone modification\n",
    "    for i in range(len(x)):\n",
    "        if x[i] >= xmin and x[i] <= xmax:\n",
    "            var[i] = var[i] - (var[i] - var_ref)*f(x[i])\n",
    "    \n",
    "    return var"
   ]
  },
  {
   "cell_type": "code",
   "execution_count": 6,
   "id": "champion-afternoon",
   "metadata": {},
   "outputs": [],
   "source": [
    "rhoInf = 1.0\n",
    "Mach = 0.3\n",
    "cInf = 1.0\n",
    "Gamma = 1.4\n",
    "pInf = cInf*cInf*rhoInf/Gamma\n",
    "vInf = 0.0\n",
    "uInf = Mach*cInf\n",
    "\n",
    "rho_ref = rhoInf\n",
    "rhou_ref = rhoInf*uInf\n",
    "rhov_ref = rhoInf*0.0\n",
    "E_ref = pInf/(Gamma-1)+0.5*rhoInf*(uInf*uInf+vInf*vInf)\n",
    "\n",
    "xmin = 8\n",
    "xmax = 10\n",
    "\n",
    "method = 1"
   ]
  },
  {
   "cell_type": "code",
   "execution_count": 7,
   "id": "existing-convention",
   "metadata": {},
   "outputs": [],
   "source": [
    "rho = Modyfication(x,rho,rho_ref,xmin,xmax,method)\n",
    "rhou = Modyfication(x,rhou,rhou_ref,xmin,xmax,method)\n",
    "rhov = Modyfication(x,rhov,rhov_ref,xmin,xmax,method)\n",
    "E = Modyfication(x,E,E_ref,xmin,xmax,method)"
   ]
  },
  {
   "cell_type": "code",
   "execution_count": 8,
   "id": "affected-signature",
   "metadata": {},
   "outputs": [],
   "source": [
    "def write2pts(x,y,rho,rhou,rhov,E):\n",
    "    f = open(\"ModyfiedField.pts\", \"a\")\n",
    "\n",
    "    f.write('<?xml version=\"1.0\" encoding=\"utf-8\"?>\\n')\n",
    "    f.write('<NEKTAR>\\n')\n",
    "    f.write('    <POINTS DIM=\"2\" FIELDS=\"rho,rhou,rhov,E\">\\n')\n",
    "    for i in range(len(x)):\n",
    "        f.write('        '+str(x[i])+'    '+str(y[i])+'    '+str(rho[i])+'    '+str(rhou[i])+'    '+str(rhov[i])+'    '+str(E[i])+'\\n')\n",
    "    f.write('    </POINTS>\\n')\n",
    "    f.write('</NEKTAR>')   \n",
    "    f.close()"
   ]
  },
  {
   "cell_type": "code",
   "execution_count": 9,
   "id": "specific-mountain",
   "metadata": {},
   "outputs": [],
   "source": [
    "write2pts(x,y,rho,rhou,rhov,E)"
   ]
  },
  {
   "cell_type": "code",
   "execution_count": null,
   "id": "catholic-infrared",
   "metadata": {},
   "outputs": [],
   "source": []
  },
  {
   "cell_type": "code",
   "execution_count": null,
   "id": "arabic-sphere",
   "metadata": {},
   "outputs": [],
   "source": []
  },
  {
   "cell_type": "code",
   "execution_count": 31,
   "id": "federal-possibility",
   "metadata": {},
   "outputs": [
    {
     "name": "stdout",
     "output_type": "stream",
     "text": [
      "0.0003902288623176589\n"
     ]
    }
   ],
   "source": [
    "# others misc\n",
    "layer = 51\n",
    "T = 0.5\n",
    "ds = 0.0004   # yplus = 1.0\n",
    "p = 1.1\n",
    "temp = 0\n",
    "for i in range(layer):\n",
    "    temp += p**i\n",
    "    \n",
    "ds = T/temp\n",
    "print(ds)"
   ]
  },
  {
   "cell_type": "code",
   "execution_count": null,
   "id": "italian-hygiene",
   "metadata": {},
   "outputs": [],
   "source": []
  },
  {
   "cell_type": "code",
   "execution_count": null,
   "id": "natural-beginning",
   "metadata": {},
   "outputs": [],
   "source": []
  }
 ],
 "metadata": {
  "kernelspec": {
   "display_name": "Python 3",
   "language": "python",
   "name": "python3"
  },
  "language_info": {
   "codemirror_mode": {
    "name": "ipython",
    "version": 3
   },
   "file_extension": ".py",
   "mimetype": "text/x-python",
   "name": "python",
   "nbconvert_exporter": "python",
   "pygments_lexer": "ipython3",
   "version": "3.9.5"
  }
 },
 "nbformat": 4,
 "nbformat_minor": 5
}
