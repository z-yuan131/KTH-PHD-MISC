{
 "cells": [
  {
   "cell_type": "code",
   "execution_count": 7,
   "id": "friendly-binding",
   "metadata": {},
   "outputs": [],
   "source": [
    "##########################################\n",
    "# Modifications inside the sponge zone (outflow) to meet bc requirement #\n",
    "# Zhenyang Yuan                          #\n",
    "# 25/5/2021                              #\n",
    "##########################################\n",
    "import numpy as np\n",
    "from math import pi\n",
    "import math\n",
    "import matplotlib.pyplot as plt\n",
    "import matplotlib.pylab as pylab\n",
    "from scipy.interpolate import griddata\n",
    "from scipy.interpolate import interp1d\n",
    "import scipy.signal\n",
    "from numpy import linalg as LA\n",
    "#from matplotlib.mlab import griddata\n",
    "params = {'legend.fontsize': 15,\n",
    "          'legend.loc':'best',\n",
    "          'figure.figsize': (14,5),\n",
    "          'lines.markerfacecolor':'none',\n",
    "         'axes.labelsize': 17,\n",
    "         'axes.titlesize': 17,\n",
    "         'xtick.labelsize':15,\n",
    "         'ytick.labelsize':15,\n",
    "         'grid.alpha':0.6}\n",
    "pylab.rcParams.update(params)\n",
    "#%matplotlib notebook\n",
    "%matplotlib inline\n",
    "\n",
    "\n",
    "from sys import argv\n",
    "\n",
    "import pandas as pd"
   ]
  },
  {
   "cell_type": "code",
   "execution_count": 14,
   "id": "martial-garbage",
   "metadata": {},
   "outputs": [],
   "source": [
    "# load data set\n",
    "def data_load(headline,varibles,numNodes,Lines):\n",
    "    \n",
    "\n",
    "    x = np.asarray([])\n",
    "    y = np.asarray([])\n",
    "    rho = np.asarray([])\n",
    "    rhou = np.asarray([])\n",
    "    rhov = np.asarray([])\n",
    "    E = np.asarray([])\n",
    "    \n",
    "    \n",
    "        \n",
    "    \n",
    "\n",
    "    k = 0\n",
    "    #for i in open(\"../send/\"+str(time)+\".dat\").readlines():\n",
    "    for i in open(\"test.dat\").readlines():\n",
    "        if k > headline - 1:                                #get away with headers\n",
    "            datContent = i.strip().split()                  #magic\n",
    "\n",
    "            datContent = np.asarray(datContent)             #convert list to array\n",
    "            datContent = datContent.astype(np.float64)      #convert str element to float\n",
    "\n",
    "           \n",
    "            if k < Lines*1 + headline :\n",
    "                    x = np.concatenate((x,datContent),axis=None)\n",
    "            elif k < Lines*2 + headline :\n",
    "                    y = np.concatenate((y,datContent),axis=None)\n",
    "            elif k < Lines*3 + headline :\n",
    "                    rho = np.concatenate((rho,datContent),axis=None)\n",
    "            elif k < Lines*4 + headline :\n",
    "                    rhou = np.concatenate((rhou,datContent),axis=None)\n",
    "            elif k < Lines*5 + headline :\n",
    "                    rhov = np.concatenate((rhov,datContent),axis=None)\n",
    "            elif k < Lines*6 + headline :\n",
    "                    E = np.concatenate((E,datContent),axis=None)\n",
    "            else:\n",
    "                break\n",
    "        k += 1\n",
    "\n",
    " \n",
    "\n",
    "    print('Completed Reading data!\\n')\n",
    "\n",
    "    return x,y,rho,rhou,rhov,E\n",
    "    \n"
   ]
  },
  {
   "cell_type": "code",
   "execution_count": 15,
   "id": "similar-mentor",
   "metadata": {},
   "outputs": [
    {
     "name": "stdout",
     "output_type": "stream",
     "text": [
      "Completed Reading data!\n",
      "\n"
     ]
    }
   ],
   "source": [
    "headline=20\n",
    "varibles=6   # x-1, y-2, rho-3, rhou-4, rhov-5, E-6, u-7, v-8, p-9, T, s, a, Mach, Sensor\n",
    "numNodes=95295\n",
    "Lines=int(numNodes/5) #from tecplot\n",
    "#Lines=int(numNodes/1000)+1 #fieldconvert\n",
    "\n",
    "\n",
    "\n",
    "x,y,rho,rhou,rhov,E = data_load(headline,varibles,numNodes,Lines)\n",
    "\n",
    "\n"
   ]
  },
  {
   "cell_type": "code",
   "execution_count": 16,
   "id": "second-printing",
   "metadata": {},
   "outputs": [],
   "source": [
    "def Modyfication(x,var,var_ref,xmin,xmax,method):\n",
    "    # step function:\n",
    "    f = lambda x_: 6*((x_-xmin)/(xmax-xmin))**5 - 15*((x_-xmin)/(xmax-xmin))**4 +10*((x_-xmin)/(xmax-xmin))**3\n",
    "    \n",
    "    # tanh function\n",
    "    #f2 = lambda x:\n",
    "    \n",
    "    #sponge zone modification\n",
    "    for i in range(len(x)):\n",
    "        if x[i] >= xmin and x[i] <= xmax:\n",
    "            var[i] = var[i] - (var[i] - var_ref)*f(x[i])\n",
    "    \n",
    "    return var"
   ]
  },
  {
   "cell_type": "code",
   "execution_count": 17,
   "id": "champion-afternoon",
   "metadata": {},
   "outputs": [],
   "source": [
    "rhoInf = 1.0\n",
    "Mach = 0.3\n",
    "cInf = 1.0\n",
    "Gamma = 1.4\n",
    "pInf = cInf*cInf*rhoInf/Gamma\n",
    "vInf = 0.0\n",
    "uInf = Mach*cInf\n",
    "\n",
    "rho_ref = rhoInf\n",
    "rhou_ref = rhoInf*uInf\n",
    "rhov_ref = rhoInf*0.0\n",
    "E_ref = pInf/(Gamma-1)+0.5*rhoInf*(uInf*uInf+vInf*vInf)\n",
    "\n",
    "xmin = 8\n",
    "xmax = 10\n",
    "\n",
    "method = 1"
   ]
  },
  {
   "cell_type": "code",
   "execution_count": 18,
   "id": "existing-convention",
   "metadata": {},
   "outputs": [],
   "source": [
    "rho = Modyfication(x,rho,rho_ref,xmin,xmax,method)\n",
    "rhou = Modyfication(x,rhou,rhou_ref,xmin,xmax,method)\n",
    "rhov = Modyfication(x,rhov,rhov_ref,xmin,xmax,method)\n",
    "E = Modyfication(x,E,E_ref,xmin,xmax,method)"
   ]
  },
  {
   "cell_type": "code",
   "execution_count": 22,
   "id": "affected-signature",
   "metadata": {},
   "outputs": [],
   "source": [
    "def write2pts(x,y,rho,rhou,rhov,E):\n",
    "    f = open(\"ModyfiedField.pts\", \"a\")\n",
    "\n",
    "    f.write('<?xml version=\"1.0\" encoding=\"utf-8\"?>\\n')\n",
    "    f.write('<NEKTAR>\\n')\n",
    "    f.write('    <POINTS DIM=\"2\" FIELDS=\"rho,rhou,rhov,E\">\\n')\n",
    "    for i in range(len(x)):\n",
    "        f.write('        '+str(x[i])+'    '+str(y[i])+'    '+str(rho[i])+'    '+str(rhou[i])+'    '+str(rhov[i])+'    '+str(E[i])+'\\n')\n",
    "    f.write('    </POINTS>\\n')\n",
    "    f.write('</NEKTAR>')   \n",
    "    f.close()"
   ]
  },
  {
   "cell_type": "code",
   "execution_count": 23,
   "id": "minor-criticism",
   "metadata": {},
   "outputs": [],
   "source": [
    "write2pts(x,y,rho,rhou,rhov,E)"
   ]
  },
  {
   "cell_type": "code",
   "execution_count": null,
   "id": "gorgeous-raise",
   "metadata": {},
   "outputs": [],
   "source": []
  }
 ],
 "metadata": {
  "kernelspec": {
   "display_name": "Python 3",
   "language": "python",
   "name": "python3"
  },
  "language_info": {
   "codemirror_mode": {
    "name": "ipython",
    "version": 3
   },
   "file_extension": ".py",
   "mimetype": "text/x-python",
   "name": "python",
   "nbconvert_exporter": "python",
   "pygments_lexer": "ipython3",
   "version": "3.9.5"
  }
 },
 "nbformat": 4,
 "nbformat_minor": 5
}
