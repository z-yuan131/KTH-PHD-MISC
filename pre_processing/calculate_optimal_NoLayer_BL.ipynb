{
 "cells": [
  {
   "cell_type": "code",
   "execution_count": 32,
   "id": "likely-wesley",
   "metadata": {},
   "outputs": [],
   "source": [
    "import numpy as np\n",
    "from math import pi\n"
   ]
  },
  {
   "cell_type": "code",
   "execution_count": 33,
   "id": "instructional-valuable",
   "metadata": {},
   "outputs": [
    {
     "name": "stdout",
     "output_type": "stream",
     "text": [
      "0.0003955150121698263\n",
      "67\n",
      "ds = 0.0003955150121698263\n",
      "\n",
      "layer = 67\n",
      "\n"
     ]
    }
   ],
   "source": [
    "### calculate the boundary layer mesh which meets y+ requirement\n",
    "p = 1.05\n",
    "ds_design = 0.0004\n",
    "layer = 50\n",
    "T = 0.2\n",
    "tol = 0.00001\n",
    "ds = 100\n",
    "k = 0\n",
    "while(abs(ds - ds_design) > tol):\n",
    "    ds_last = ds\n",
    "    if (ds < ds_design):\n",
    "        layer = layer - 1\n",
    "    else:\n",
    "        layer = layer + 1\n",
    "    \n",
    "    temp = 0\n",
    "    for i in range(layer):\n",
    "        temp += p**(i)\n",
    "    ds = T/temp\n",
    "    \n",
    "    k += 1\n",
    "    \n",
    "    if ds_last - ds_design > 0 and ds - ds_design < 0 and k > 1:\n",
    "        print(ds)\n",
    "        print(layer)\n",
    "        break\n",
    "    \n",
    "print('ds = '+str(ds)+'\\n')\n",
    "print('layer = '+str(layer)+'\\n')"
   ]
  },
  {
   "cell_type": "code",
   "execution_count": 34,
   "id": "bound-trunk",
   "metadata": {},
   "outputs": [
    {
     "name": "stdout",
     "output_type": "stream",
     "text": [
      "Validation approved!\n"
     ]
    }
   ],
   "source": [
    "### calculate the boundary layer mesh which meets y+ requirement\n",
    "\n",
    "\n",
    "\n",
    "    \n",
    "temp = 0\n",
    "for i in range(layer):\n",
    "    temp += p**(i)\n",
    "ds_validation = T/temp\n",
    "\n",
    "if ds == ds_validation:\n",
    "    print('Validation approved!')\n",
    "else:\n",
    "    print('calculation wrong!')"
   ]
  },
  {
   "cell_type": "code",
   "execution_count": null,
   "id": "metric-forwarding",
   "metadata": {},
   "outputs": [],
   "source": []
  }
 ],
 "metadata": {
  "kernelspec": {
   "display_name": "Python 3",
   "language": "python",
   "name": "python3"
  },
  "language_info": {
   "codemirror_mode": {
    "name": "ipython",
    "version": 3
   },
   "file_extension": ".py",
   "mimetype": "text/x-python",
   "name": "python",
   "nbconvert_exporter": "python",
   "pygments_lexer": "ipython3",
   "version": "3.9.5"
  }
 },
 "nbformat": 4,
 "nbformat_minor": 5
}
